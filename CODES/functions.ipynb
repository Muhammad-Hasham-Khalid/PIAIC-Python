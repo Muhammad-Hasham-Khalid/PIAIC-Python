{
 "cells": [
  {
   "cell_type": "markdown",
   "metadata": {},
   "source": [
    "**FUNCTIONS**"
   ]
  },
  {
   "cell_type": "code",
   "execution_count": 1,
   "metadata": {},
   "outputs": [],
   "source": [
    "def abc():\n",
    "    x = 5+6\n",
    "    print(x)"
   ]
  },
  {
   "cell_type": "code",
   "execution_count": 2,
   "metadata": {},
   "outputs": [
    {
     "name": "stdout",
     "output_type": "stream",
     "text": [
      "11\n"
     ]
    }
   ],
   "source": [
    "abc()"
   ]
  },
  {
   "cell_type": "code",
   "execution_count": 11,
   "metadata": {},
   "outputs": [],
   "source": [
    "def add(a,b):\n",
    "    print(\"Answer : \"+str(a+b))\n",
    "    print(\"Function execution end\")"
   ]
  },
  {
   "cell_type": "code",
   "execution_count": 12,
   "metadata": {},
   "outputs": [
    {
     "name": "stdout",
     "output_type": "stream",
     "text": [
      "Answer : 32\n",
      "Function execution end\n"
     ]
    }
   ],
   "source": [
    "add(15,17)"
   ]
  },
  {
   "cell_type": "code",
   "execution_count": 13,
   "metadata": {},
   "outputs": [],
   "source": [
    "def calc(n1,n2,op):\n",
    "    if op=='+':\n",
    "        print(\"Answer : \"+str(n1+n2))\n",
    "    elif op=='%':\n",
    "        print(\"Answer : \"+str(n1%n2))\n",
    "    elif op=='-':\n",
    "        print(\"Answer : \"+str(n1-n2))\n",
    "    elif op=='*':\n",
    "        print(\"Answer : \"+str(n1*n2))\n",
    "    elif op=='/':\n",
    "        print(\"Answer : \"+str(n1/n2))\n",
    "    else:\n",
    "        print(\"Invalid operator\")"
   ]
  },
  {
   "cell_type": "code",
   "execution_count": 15,
   "metadata": {},
   "outputs": [
    {
     "name": "stdout",
     "output_type": "stream",
     "text": [
      "Answer : 3\n"
     ]
    }
   ],
   "source": [
    "calc(1,2,'+')"
   ]
  },
  {
   "cell_type": "code",
   "execution_count": 24,
   "metadata": {},
   "outputs": [],
   "source": [
    "def friends_list(friends):\n",
    "    for friend in friends:\n",
    "        print(friend)"
   ]
  },
  {
   "cell_type": "code",
   "execution_count": 26,
   "metadata": {},
   "outputs": [
    {
     "name": "stdout",
     "output_type": "stream",
     "text": [
      "Maaz\n",
      "Mariam\n",
      "Midha\n",
      "Ahsan\n"
     ]
    }
   ],
   "source": [
    "my_friends = [\"Maaz\",\"Mariam\",\"Midha\",\"Ahsan\"]\n",
    "friends_list(my_friends)"
   ]
  },
  {
   "cell_type": "code",
   "execution_count": 27,
   "metadata": {},
   "outputs": [],
   "source": [
    "x = \"Pakistan Zindabad\""
   ]
  },
  {
   "cell_type": "code",
   "execution_count": 29,
   "metadata": {},
   "outputs": [
    {
     "name": "stdout",
     "output_type": "stream",
     "text": [
      "P\n",
      "a\n",
      "k\n",
      "i\n",
      "s\n",
      "t\n",
      "a\n",
      "n\n",
      " \n",
      "Z\n",
      "i\n",
      "n\n",
      "d\n",
      "a\n",
      "b\n",
      "a\n",
      "d\n"
     ]
    }
   ],
   "source": [
    "friends_list(x)"
   ]
  },
  {
   "cell_type": "code",
   "execution_count": 1,
   "metadata": {},
   "outputs": [],
   "source": [
    "def function(filled,empty):\n",
    "    for x in range(len(filled)):\n",
    "        empty.append(filled.pop())\n",
    "    for empt in empty:\n",
    "        print(empt)"
   ]
  },
  {
   "cell_type": "code",
   "execution_count": 2,
   "metadata": {},
   "outputs": [
    {
     "name": "stdout",
     "output_type": "stream",
     "text": [
      "5\n",
      "4\n",
      "3\n",
      "2\n",
      "1\n"
     ]
    }
   ],
   "source": [
    "filled = [1,2,3,4,5]\n",
    "empty= []\n",
    "function(filled,empty)"
   ]
  },
  {
   "cell_type": "markdown",
   "metadata": {},
   "source": [
    "***DYS = dictionary through functions***"
   ]
  },
  {
   "cell_type": "code",
   "execution_count": 58,
   "metadata": {},
   "outputs": [],
   "source": [
    "def my_name(f_name,l_name):\n",
    "    print(f_name+\" \"+l_name)"
   ]
  },
  {
   "cell_type": "code",
   "execution_count": 62,
   "metadata": {},
   "outputs": [
    {
     "name": "stdout",
     "output_type": "stream",
     "text": [
      "Hasham Khalid\n",
      "Khalid Hasham\n"
     ]
    }
   ],
   "source": [
    "# positional arguments\n",
    "my_name(\"Hasham\",\"Khalid\")\n",
    "my_name(\"Khalid\",\"Hasham\")"
   ]
  },
  {
   "cell_type": "code",
   "execution_count": 65,
   "metadata": {},
   "outputs": [
    {
     "name": "stdout",
     "output_type": "stream",
     "text": [
      "Hasham Khalid\n"
     ]
    }
   ],
   "source": [
    "# keyword arguments\n",
    "my_name(l_name=\"Khalid\" , f_name=\"Hasham\")"
   ]
  },
  {
   "cell_type": "code",
   "execution_count": 67,
   "metadata": {},
   "outputs": [],
   "source": [
    "def me_and_father(m_name,f_name):\n",
    "    print(\"My name is \"+m_name)\n",
    "    print(\"My father's name is \"+f_name)"
   ]
  },
  {
   "cell_type": "code",
   "execution_count": 68,
   "metadata": {},
   "outputs": [
    {
     "name": "stdout",
     "output_type": "stream",
     "text": [
      "My name is Hasham\n",
      "My father's name is Khalid\n"
     ]
    }
   ],
   "source": [
    "me_and_father(f_name = \"Khalid\",m_name=\"Hasham\")"
   ]
  },
  {
   "cell_type": "code",
   "execution_count": 69,
   "metadata": {},
   "outputs": [],
   "source": [
    "# positional and keyword arguments\n",
    "def make_juice(a,b,c):\n",
    "    print(a)\n",
    "    print(b)\n",
    "    print(c)"
   ]
  },
  {
   "cell_type": "code",
   "execution_count": 76,
   "metadata": {},
   "outputs": [
    {
     "name": "stdout",
     "output_type": "stream",
     "text": [
      "10\n",
      "sugar\n",
      "banana\n"
     ]
    }
   ],
   "source": [
    "make_juice(10,\"sugar\",c=\"banana\")"
   ]
  },
  {
   "cell_type": "code",
   "execution_count": 10,
   "metadata": {},
   "outputs": [],
   "source": [
    "# if less parameters can be given ...\n",
    "def fullname(fname,lname,mname=\" \"):\n",
    "    if mname !=\" \":\n",
    "        print(fname+\" \"+mname+\" \"+lname)\n",
    "    else:\n",
    "        print(fname + \" \" + lname)\n",
    "        "
   ]
  },
  {
   "cell_type": "code",
   "execution_count": 11,
   "metadata": {},
   "outputs": [
    {
     "name": "stdout",
     "output_type": "stream",
     "text": [
      "Hasham Khalid\n",
      "Muhammad Hasham Khalid\n"
     ]
    }
   ],
   "source": [
    "fullname(\"Hasham\",\"Khalid\")\n",
    "fullname(fname=\"Muhammad\",mname=\"Hasham\",lname=\"Khalid\")"
   ]
  },
  {
   "cell_type": "code",
   "execution_count": 12,
   "metadata": {},
   "outputs": [],
   "source": [
    "def func(x):\n",
    "    for a in range(1,11):\n",
    "        print(str(x)+ \" x \" + str(a) + \" = \" + str(a*x))"
   ]
  },
  {
   "cell_type": "code",
   "execution_count": 16,
   "metadata": {},
   "outputs": [
    {
     "name": "stdin",
     "output_type": "stream",
     "text": [
      "Enter any number :  3\n"
     ]
    },
    {
     "name": "stdout",
     "output_type": "stream",
     "text": [
      "3 x 1 = 3\n",
      "3 x 2 = 6\n",
      "3 x 3 = 9\n",
      "3 x 4 = 12\n",
      "3 x 5 = 15\n",
      "3 x 6 = 18\n",
      "3 x 7 = 21\n",
      "3 x 8 = 24\n",
      "3 x 9 = 27\n",
      "3 x 10 = 30\n"
     ]
    }
   ],
   "source": [
    "x = int(input(\"Enter any number : \"))\n",
    "func(x)"
   ]
  },
  {
   "cell_type": "code",
   "execution_count": 17,
   "metadata": {},
   "outputs": [],
   "source": [
    "def discount(price):\n",
    "    if price >= 1000:\n",
    "        dis = price - (price*10/100)\n",
    "        return \"discounted price is \"+str(dis)\n",
    "    else:\n",
    "        return \"no discount\""
   ]
  },
  {
   "cell_type": "code",
   "execution_count": 19,
   "metadata": {},
   "outputs": [
    {
     "name": "stdin",
     "output_type": "stream",
     "text": [
      "enter price :  23\n"
     ]
    },
    {
     "name": "stdout",
     "output_type": "stream",
     "text": [
      "no discount\n"
     ]
    }
   ],
   "source": [
    "x=int(input(\"enter price : \"))\n",
    "print(discount(x))"
   ]
  },
  {
   "cell_type": "code",
   "execution_count": 20,
   "metadata": {},
   "outputs": [],
   "source": [
    "def name(names):\n",
    "    for x in range(len(names)):\n",
    "        names[x]=names[x]+\" Khan\"\n",
    "    return(names)"
   ]
  },
  {
   "cell_type": "code",
   "execution_count": 21,
   "metadata": {},
   "outputs": [
    {
     "name": "stdout",
     "output_type": "stream",
     "text": [
      "['hasham Khan', 'Ali Khan', 'Aslam Khan']\n"
     ]
    }
   ],
   "source": [
    "khan=name([\"hasham\",\"Ali\",\"Aslam\"])\n",
    "print(khan)"
   ]
  },
  {
   "cell_type": "code",
   "execution_count": 22,
   "metadata": {},
   "outputs": [],
   "source": [
    "def factorial(n):\n",
    "    fact=1\n",
    "    for i in range(1,n+1):\n",
    "        fact = fact*i\n",
    "    return fact"
   ]
  },
  {
   "cell_type": "code",
   "execution_count": 24,
   "metadata": {},
   "outputs": [
    {
     "name": "stdin",
     "output_type": "stream",
     "text": [
      "Enter a number :  5\n"
     ]
    },
    {
     "name": "stdout",
     "output_type": "stream",
     "text": [
      "result is : 120\n"
     ]
    }
   ],
   "source": [
    "num = int(input(\"Enter a number : \"))\n",
    "result = factorial(n=num)\n",
    "print(\"result is : \"+str(result))"
   ]
  },
  {
   "cell_type": "markdown",
   "metadata": {},
   "source": [
    "# args,*kargs\n",
    "(if more arguments can be given)"
   ]
  },
  {
   "cell_type": "code",
   "execution_count": 27,
   "metadata": {},
   "outputs": [],
   "source": [
    "def cars(model, brand, *specs):\n",
    "    print(\"Model is \"+str(model))\n",
    "    print(brand)\n",
    "    print(specs)\n",
    "# asterisk '*' shows that multiple arguments can be taken here"
   ]
  },
  {
   "cell_type": "code",
   "execution_count": 30,
   "metadata": {},
   "outputs": [
    {
     "name": "stdout",
     "output_type": "stream",
     "text": [
      "Model is 2010\n",
      "toyota\n",
      "('alloyrim', 'tape', 'power windows')\n"
     ]
    }
   ],
   "source": [
    "cars(2010,'toyota','alloyrim','tape','power windows')\n",
    "# here all the specs would be treated as tuples\n",
    "# tuples because of the reason as tuples can't be altered\n",
    "# so one can't change the data"
   ]
  },
  {
   "cell_type": "code",
   "execution_count": 32,
   "metadata": {},
   "outputs": [
    {
     "name": "stdout",
     "output_type": "stream",
     "text": [
      "Model is 2010\n",
      "honda\n",
      "(['alloyrim', 'tape', 'power windows'],)\n"
     ]
    }
   ],
   "source": [
    "cars (2010,\"honda\",[\"alloyrim\",\"tape\",\"power windows\"])\n",
    "# here whole list will be treated as a single data member in the tuple"
   ]
  },
  {
   "cell_type": "code",
   "execution_count": 44,
   "metadata": {},
   "outputs": [],
   "source": [
    "def pizza_order(name,payment,size_of_pizza,*toppings):\n",
    "    print(\"Order given by : \" + name)\n",
    "    print(\"\\nPayment given : \"+str(payment)+\"/=\")\n",
    "    print(\"\\nSize of pizza is : \"+size_of_pizza)\n",
    "    print(\"\\nToppings are :\")\n",
    "    i=1\n",
    "    for topping in toppings:\n",
    "        print(str(i)+\"- \"+topping)\n",
    "        i+=1"
   ]
  },
  {
   "cell_type": "code",
   "execution_count": 45,
   "metadata": {},
   "outputs": [
    {
     "name": "stdout",
     "output_type": "stream",
     "text": [
      "Order given by : Hasham\n",
      "\n",
      "Payment given : 4000/=\n",
      "\n",
      "Size of pizza is : large\n",
      "\n",
      "Toppings are :\n",
      "1- extra cheese\n",
      "2- spicy\n",
      "3- olives\n",
      "4- capsicum\n"
     ]
    }
   ],
   "source": [
    "pizza_order(\"Hasham\",4000,\"large\",\"extra cheese\",\"spicy\",\"olives\",\"capsicum\")"
   ]
  },
  {
   "cell_type": "code",
   "execution_count": 55,
   "metadata": {},
   "outputs": [],
   "source": [
    "# ** double asterisks are used for keyword arguments \n",
    "def person(fname, lname, **about):\n",
    "    print(fname + \" \" + lname)\n",
    "    print(about)"
   ]
  },
  {
   "cell_type": "code",
   "execution_count": 56,
   "metadata": {},
   "outputs": [
    {
     "name": "stdout",
     "output_type": "stream",
     "text": [
      "Hasham Khalid\n",
      "{'age': 17, 'address': 'karachi'}\n"
     ]
    }
   ],
   "source": [
    "person(\"Hasham\",\"Khalid\",age = 17, address = 'karachi')\n",
    "# here extra arguments will go in the form of a dictionary"
   ]
  },
  {
   "cell_type": "code",
   "execution_count": 57,
   "metadata": {},
   "outputs": [
    {
     "name": "stdout",
     "output_type": "stream",
     "text": [
      "Hasham Khalid\n",
      "{'phone_nos': ['+923303156245', '+923363830228']}\n"
     ]
    }
   ],
   "source": [
    "person(\"Hasham\",\"Khalid\",phone_nos=[\"+923303156245\",\"+923363830228\"])"
   ]
  },
  {
   "cell_type": "code",
   "execution_count": 60,
   "metadata": {},
   "outputs": [
    {
     "name": "stdout",
     "output_type": "stream",
     "text": [
      "Hasham Khalid\n",
      "{'details': {'name': 'Hasham', 'BE': 'Software', 'university': 'NED University'}}\n"
     ]
    }
   ],
   "source": [
    "diction = {\n",
    "    'name' : \"Hasham\",\n",
    "    'BE' : \"Software\",\n",
    "    'university' : \"NED University\"\n",
    "}\n",
    "person(\"Hasham\",\"Khalid\",details=diction)"
   ]
  },
  {
   "cell_type": "markdown",
   "metadata": {},
   "source": [
    "# Using function as a variable :"
   ]
  },
  {
   "cell_type": "code",
   "execution_count": 3,
   "metadata": {},
   "outputs": [
    {
     "name": "stdin",
     "output_type": "stream",
     "text": [
      "Enter first number :  28\n",
      "Enter second number :  22\n"
     ]
    },
    {
     "name": "stdout",
     "output_type": "stream",
     "text": [
      "56\n"
     ]
    }
   ],
   "source": [
    "def add(x,y):\n",
    "    return x+y\n",
    "def sub(x,y):\n",
    "    return x-y\n",
    "var_1 = int(input(\"Enter first number : \"))\n",
    "var_2 = int(input(\"Enter second number : \"))\n",
    "result = add(var_1,var_2) + sub(var_1,var_2)\n",
    "print(result)"
   ]
  },
  {
   "cell_type": "code",
   "execution_count": 8,
   "metadata": {},
   "outputs": [
    {
     "name": "stdout",
     "output_type": "stream",
     "text": [
      "Your salary is : 25750.0\n"
     ]
    }
   ],
   "source": [
    "def salary(basic_salary,commission):\n",
    "    salary = basic_salary + commission\n",
    "    print(f\"Your salary is : {salary}\")\n",
    "    \n",
    "def commission_calculator(sales):\n",
    "    if sales >= 100000:\n",
    "        percentage = 30\n",
    "    elif sales >= 50000:\n",
    "        percentage = 20\n",
    "    elif sales >= 30000:\n",
    "        percentage = 10\n",
    "    elif sales >= 10000:\n",
    "        percentage = 5\n",
    "    else:\n",
    "        percentage = 2\n",
    "    commission = sales * percentage / 100\n",
    "    return commission\n",
    "\n",
    "salary(25000,commission_calculator(15000))"
   ]
  },
  {
   "cell_type": "markdown",
   "metadata": {},
   "source": [
    "# Global, Local variables"
   ]
  },
  {
   "cell_type": "code",
   "execution_count": 14,
   "metadata": {},
   "outputs": [
    {
     "name": "stdout",
     "output_type": "stream",
     "text": [
      "Apple\n"
     ]
    }
   ],
   "source": [
    "# variable created inside the function are called local variables\n",
    "# which means they cannot be accessed outside the function\n",
    "\n",
    "fruit = 'Apple' #global variable\n",
    "\n",
    "def alocal():   #local variables\n",
    "    a = 100\n",
    "    fruit = 'orange'\n",
    "    print(a)\n",
    "    print(fruit)\n",
    "print(fruit)"
   ]
  },
  {
   "cell_type": "code",
   "execution_count": 15,
   "metadata": {},
   "outputs": [
    {
     "name": "stdout",
     "output_type": "stream",
     "text": [
      "100\n",
      "orange\n"
     ]
    }
   ],
   "source": [
    "alocal()"
   ]
  },
  {
   "cell_type": "code",
   "execution_count": 22,
   "metadata": {},
   "outputs": [
    {
     "name": "stdout",
     "output_type": "stream",
     "text": [
      "100\n"
     ]
    }
   ],
   "source": [
    "def local_global():\n",
    "    global a   # making a local variable as global\n",
    "    a = 100\n",
    "local_global()\n",
    "print(a)"
   ]
  },
  {
   "cell_type": "markdown",
   "metadata": {},
   "source": [
    "# While Loops \n",
    "(*when the iteration control is to be given to the user*)"
   ]
  },
  {
   "cell_type": "code",
   "execution_count": 3,
   "metadata": {},
   "outputs": [
    {
     "name": "stdout",
     "output_type": "stream",
     "text": [
      "0\n",
      "1\n",
      "2\n",
      "3\n",
      "4\n"
     ]
    }
   ],
   "source": [
    "a=0\n",
    "while a<5:\n",
    "    print(a)\n",
    "    a+=1"
   ]
  },
  {
   "cell_type": "code",
   "execution_count": null,
   "metadata": {},
   "outputs": [],
   "source": [
    "flag = True\n",
    "while flag:\n",
    "    choice = input(\"Enter your choices : \")\n",
    "    print(choice)\n",
    "    if choice == 'quit' or choice == 'exit' :\n",
    "        flag = False"
   ]
  },
  {
   "cell_type": "markdown",
   "metadata": {},
   "source": [
    "## PIZZA ORDER PROGRAM :"
   ]
  },
  {
   "cell_type": "code",
   "execution_count": 3,
   "metadata": {},
   "outputs": [],
   "source": [
    "def pizza_order(name,payment,size_of_pizza,*toppings):\n",
    "    print(\"Order given by : \" + name)\n",
    "    print(\"\\nPayment given : \"+str(payment)+\"/=\")\n",
    "    print(\"\\nSize of pizza is : \"+size_of_pizza)\n",
    "    print(\"\\nToppings are :\")\n",
    "    i=1\n",
    "    for topping in range(len(toppings[0])):\n",
    "        print(str(i)+\"- \"+toppings[0][topping])\n",
    "        i+=1"
   ]
  },
  {
   "cell_type": "code",
   "execution_count": 4,
   "metadata": {},
   "outputs": [
    {
     "name": "stdin",
     "output_type": "stream",
     "text": [
      "Enter your name :  Hasham\n",
      "Enter size of Pizza :  medium\n",
      "Payment :  5000\n"
     ]
    },
    {
     "name": "stdout",
     "output_type": "stream",
     "text": [
      "Enter Toppings : \n"
     ]
    },
    {
     "name": "stdin",
     "output_type": "stream",
     "text": [
      " soicy\n",
      " olives\n",
      " cheesy\n",
      " quit\n"
     ]
    },
    {
     "name": "stdout",
     "output_type": "stream",
     "text": [
      "Order given by : Hasham\n",
      "\n",
      "Payment given : 5000/=\n",
      "\n",
      "Size of pizza is : medium\n",
      "\n",
      "Toppings are :\n",
      "1- soicy\n",
      "2- olives\n",
      "3- cheesy\n",
      "4- quit\n"
     ]
    }
   ],
   "source": [
    "name = input(\"Enter your name : \")\n",
    "size_of_pizza = input(\"Enter size of Pizza : \")\n",
    "payment = input(\"Payment : \")\n",
    "toppings = []\n",
    "choice = ''\n",
    "print(\"Enter Toppings : \")\n",
    "while choice!=\"exit\" and choice!=\"end\" and choice!=\"quit\":\n",
    "    choice=input()\n",
    "    toppings.append(choice)\n",
    "pizza_order(name,payment,size_of_pizza,toppings)"
   ]
  },
  {
   "cell_type": "code",
   "execution_count": 7,
   "metadata": {},
   "outputs": [],
   "source": [
    "def first(): \n",
    "    x = \"Hasham\"\n",
    "    def changer():\n",
    "        nonlocal x\n",
    "        x = \"Midha\"\n",
    "        return x\n",
    "    y = changer()\n",
    "    return y"
   ]
  },
  {
   "cell_type": "code",
   "execution_count": 8,
   "metadata": {},
   "outputs": [
    {
     "name": "stdout",
     "output_type": "stream",
     "text": [
      "Midha\n"
     ]
    }
   ],
   "source": [
    "print(first())"
   ]
  },
  {
   "cell_type": "code",
   "execution_count": 10,
   "metadata": {},
   "outputs": [
    {
     "name": "stdout",
     "output_type": "stream",
     "text": [
      "hello\n"
     ]
    }
   ],
   "source": [
    "def myfunc1():\n",
    "    x = \"John\"\n",
    "    def myfunc2():\n",
    "        nonlocal x\n",
    "        x = \"hello\"\n",
    "    myfunc2() \n",
    "    return x\n",
    "\n",
    "print(myfunc1())\n"
   ]
  },
  {
   "cell_type": "code",
   "execution_count": null,
   "metadata": {},
   "outputs": [],
   "source": []
  }
 ],
 "metadata": {
  "kernelspec": {
   "display_name": "Python 3",
   "language": "python",
   "name": "python3"
  },
  "language_info": {
   "codemirror_mode": {
    "name": "ipython",
    "version": 3
   },
   "file_extension": ".py",
   "mimetype": "text/x-python",
   "name": "python",
   "nbconvert_exporter": "python",
   "pygments_lexer": "ipython3",
   "version": "3.7.3"
  }
 },
 "nbformat": 4,
 "nbformat_minor": 2
}
