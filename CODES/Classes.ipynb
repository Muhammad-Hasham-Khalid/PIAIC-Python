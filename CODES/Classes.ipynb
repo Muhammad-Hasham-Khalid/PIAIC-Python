{
 "cells": [
  {
   "cell_type": "markdown",
   "metadata": {},
   "source": [
    "# CLASSES IN PYTHON"
   ]
  },
  {
   "cell_type": "markdown",
   "metadata": {},
   "source": [
    "* class is like a template\n",
    "\n",
    "* Object Oriented Programming\n",
    "\n",
    "* object is an instance of a class \n",
    "\n",
    "* class has some objects and they are instances of that class\n",
    "\n",
    "* class is like a map, bluePrint\n",
    "\n",
    "* Object follows the class\n",
    "\n",
    "* Every object has some properties or attributes (Variables)\n",
    "\n",
    "* every object has some behaviours or properties (Functions) \n",
    "\n",
    "* There is an \"IS A\" relatioship"
   ]
  },
  {
   "cell_type": "markdown",
   "metadata": {},
   "source": [
    "# self :\n",
    "\n",
    "self represents the instance of the class. By using the \"self\" keyword we can access the attributes and methods of the class in python.\n",
    "\n",
    "# \\_\\_init\\_\\_ :\n",
    "\n",
    "\"__init__\" is a reseved method in python classes. It is known as a constructor in object oriented concepts. This method called when an object is created from the class and it allow the class to initialize the attributes of a class."
   ]
  },
  {
   "cell_type": "code",
   "execution_count": null,
   "metadata": {},
   "outputs": [],
   "source": [
    "class patient():\n",
    "    #attributes --- variables\n",
    "    #behaviours --- functions\n",
    "    def __init__(self, pid, pname, disease, age, gender):\n",
    "        #initializer is just like a constructor --- its created using d-under score \"__\"\n",
    "        self.pid = pid\n",
    "        self.pname = pname\n",
    "        self.disease = disease\n",
    "        self.age = age\n",
    "        self.gender = gender"
   ]
  },
  {
   "cell_type": "code",
   "execution_count": null,
   "metadata": {},
   "outputs": [],
   "source": [
    "p1 = patient(111,\"Gabbar\",\"Sore_throat\",35,\"Male\")"
   ]
  },
  {
   "cell_type": "code",
   "execution_count": null,
   "metadata": {},
   "outputs": [],
   "source": [
    "p2 = patient(222,\"Sambah\",\"Wounded\",45,\"Male\")"
   ]
  },
  {
   "cell_type": "code",
   "execution_count": null,
   "metadata": {},
   "outputs": [],
   "source": [
    "print(p1.age,p2.pname)"
   ]
  },
  {
   "cell_type": "code",
   "execution_count": null,
   "metadata": {},
   "outputs": [],
   "source": [
    "class Student():\n",
    "    def __init__(self,name):\n",
    "        self.name=name\n",
    "        \n",
    "st1 = Student(\"Hasham\")\n",
    "print(st1.name)"
   ]
  },
  {
   "cell_type": "code",
   "execution_count": null,
   "metadata": {},
   "outputs": [],
   "source": [
    "class car():\n",
    "    def __init__(self,make,model,year):\n",
    "        self.make = make\n",
    "        self.model = model\n",
    "        self.year = year\n",
    "        self.odometer_reading = 0\n",
    "        self.long_name = ''\n",
    "        \n",
    "    def read_odometer(self):\n",
    "        current_odometer_reading = self.odometer_reading\n",
    "        return current_odometer_reading\n",
    "        \n",
    "    def get_descriptive_name(self):\n",
    "        self.long_name = str(self.year) + ' ' + self.make + \" \" + self.model\n",
    "        return self.long_name\n",
    "    \n",
    "    def update_odometer(self,mileage):\n",
    "        self.odometer_reading = mileage"
   ]
  },
  {
   "cell_type": "code",
   "execution_count": null,
   "metadata": {},
   "outputs": [],
   "source": [
    "my_new_car = car(\"Audi\" , \"A4\" , 2016)\n",
    "print(my_new_car.get_descriptive_name())\n",
    "print(my_new_car.read_odometer())"
   ]
  },
  {
   "cell_type": "code",
   "execution_count": null,
   "metadata": {},
   "outputs": [],
   "source": [
    "your_new_car = car(\"Corolla\" , \"123\", 2019)\n",
    "print(your_new_car.get_descriptive_name())\n",
    "print(your_new_car.read_odometer())"
   ]
  },
  {
   "cell_type": "markdown",
   "metadata": {},
   "source": [
    "## Changing the value directly"
   ]
  },
  {
   "cell_type": "code",
   "execution_count": null,
   "metadata": {},
   "outputs": [],
   "source": [
    "my_new_car.odometer_reading = 50\n",
    "your_new_car.odometer_reading = 100"
   ]
  },
  {
   "cell_type": "code",
   "execution_count": null,
   "metadata": {},
   "outputs": [],
   "source": [
    "print(my_new_car.read_odometer())\n",
    "print(your_new_car.read_odometer())"
   ]
  },
  {
   "cell_type": "markdown",
   "metadata": {},
   "source": [
    "## Changing the value via function"
   ]
  },
  {
   "cell_type": "code",
   "execution_count": null,
   "metadata": {},
   "outputs": [],
   "source": [
    "my_new_car.update_odometer(500)\n",
    "print(my_new_car.read_odometer())"
   ]
  },
  {
   "cell_type": "markdown",
   "metadata": {},
   "source": [
    "## D Y S\n",
    "\n",
    "## Try It Yourself\n",
    "* 9-1.\n",
    "Restaurant: Make a class called Restaurant. The \\_\\_init\\_\\_() method for\n",
    "Restaurant should store two attributes: a restaurant_name and a cuisine_type.\n",
    "Make a method called describe_restaurant() that prints these two pieces of\n",
    "information, and a method called open_restaurant() that prints a message indicating that the restaurant is open.\n",
    "Make an instance called restaurant from your class. Print the two attributes individually, and then call both methods.\n",
    "* 9-2. Three Restaurants: Start with your class from Exercise 9-1. Create three\n",
    "different instances from the class, and call describe_restaurant() for each\n",
    "instance.\n",
    "* 9-3. Users: Make a class called User. Create two attributes called first_name\n",
    "and last_name, and then create several other attributes that are typically stored\n",
    "in a user profile. Make a method called describe_user() that prints a summary\n",
    "of the user’s information. Make another method called greet_user() that prints\n",
    "a personalized greeting to the user.\n",
    "Create several instances representing different users, and call both methods\n",
    "for each user.\n",
    "## Try It Yourself\n",
    "* 9-4. Number Served: Start with your program from Exercise 9-1 (page 166).\n",
    "Add an attribute called number_served with a default value of 0. Create an\n",
    "instance called restaurant from this class. Print the number of customers the\n",
    "restaurant has served, and then change this value and print it again.\n",
    "Add a method called set_number_served() that lets you set the number\n",
    "of customers that have been served. Call this method with a new number and\n",
    "print the value again.\n",
    "Add a method called increment_number_served() that lets you increment\n",
    "the number of customers who’ve been served. Call this method with any number you like that could represent how many customers were served in, say, a\n",
    "day of business.\n",
    "* 9-5. Login Attempts: Add an attribute called login_attempts to your User\n",
    "class from Exercise 9-3 (page 166). Write a method called increment_\n",
    "login_attempts() that increments the value of login_attempts by 1. Write\n",
    "another method called reset_login_attempts() that resets the value of login_\n",
    "attempts to 0.\n",
    "Make an instance of the User class and call increment_login_attempts()\n",
    "several times. Print the value of login_attempts to make sure it was incremented\n",
    "properly, and then call reset_login_attempts(). Print login_attempts again to\n",
    "make sure it was reset to 0."
   ]
  },
  {
   "cell_type": "code",
   "execution_count": null,
   "metadata": {},
   "outputs": [],
   "source": [
    "class Restaurant():\n",
    "    def __init__(self,restaurant_name,cuisine_type):\n",
    "        self.restaurant_name = restaurant_name\n",
    "        self.cuisine_type = cuisine_type\n",
    "        self.number_served = 0\n",
    "        \n",
    "    def describe(self):\n",
    "        print(self.restaurant_name)\n",
    "        print(self.cuisine_type)\n",
    "        print(self.number_served)\n",
    "        \n",
    "    def open_restaurant(self):\n",
    "        print(f\"{self.restaurant_name} is open\")"
   ]
  },
  {
   "cell_type": "code",
   "execution_count": null,
   "metadata": {},
   "outputs": [],
   "source": [
    "mcdonald = Restaurant(\"McDonald\",\"Fast_food\")\n",
    "mcdonald.open_restaurant()\n",
    "print(mcdonald.restaurant_name,mcdonald.cuisine_type)"
   ]
  },
  {
   "cell_type": "code",
   "execution_count": null,
   "metadata": {},
   "outputs": [],
   "source": [
    "class User():\n",
    "    def __init__(self,first_name,last_name):\n",
    "        self.first_name = first_name\n",
    "        self.last_name = last_name\n",
    "        self.login_attempts = 0\n",
    "        \n",
    "    def reset_login_attempts(self):\n",
    "        self.login_attempts = 0\n",
    "        \n",
    "    def increment_login_attempts(self):\n",
    "        self.login_attempts+=1\n",
    "        \n",
    "    def user_summary(self):\n",
    "        print(f\"{self.first_name} {self.last_name}\")\n",
    "        print(self.login_attempts)\n",
    "        \n",
    "    def greet_user(self):\n",
    "        print(f\"Hello {self.first_name} {self.last_name}\")"
   ]
  },
  {
   "cell_type": "code",
   "execution_count": null,
   "metadata": {},
   "outputs": [],
   "source": [
    "user1 = User(\"Hasham\" , \"Khalid\")\n",
    "user1.user_summary()\n",
    "user1.greet_user()"
   ]
  },
  {
   "cell_type": "code",
   "execution_count": null,
   "metadata": {},
   "outputs": [],
   "source": [
    "restaurant = Restaurant(\"Ola Restauri\" , \"espanyol\")\n",
    "restaurant.number_served = 30\n",
    "restaurant.describe()"
   ]
  },
  {
   "cell_type": "code",
   "execution_count": null,
   "metadata": {},
   "outputs": [],
   "source": [
    "david = User(\"David\" , \"James\")\n",
    "for x in range(5):\n",
    "    david.increment_login_attempts()\n",
    "david.user_summary()\n",
    "david.reset_login_attempts()\n",
    "david.user_summary()"
   ]
  },
  {
   "cell_type": "markdown",
   "metadata": {},
   "source": [
    "## Inheritance and ( Instances used as attributes ) In Py.3X "
   ]
  },
  {
   "cell_type": "code",
   "execution_count": null,
   "metadata": {},
   "outputs": [],
   "source": [
    "class Battery():\n",
    "    def __init__(self,manufacturer,size,power):\n",
    "        self.manufacturer = manufacturer\n",
    "        self.size = size\n",
    "        self.power = power\n",
    "        \n",
    "    def get_battery_size(self):\n",
    "        print(f\"The battery is of size : {self.size}\")\n",
    "        \n",
    "    def set_battery_size(self, size):\n",
    "        self.size = size\n",
    "    "
   ]
  },
  {
   "cell_type": "code",
   "execution_count": null,
   "metadata": {},
   "outputs": [],
   "source": [
    "class Engine():\n",
    "    def __init__(self,HP,engine_number,capacity):\n",
    "        self.HP = HP\n",
    "        self.engine_number = engine_number\n",
    "        self.capacity = capacity\n",
    "    \n",
    "    def get_data(self):\n",
    "        print(f\"HP : {self.HP}\\nEngine Number : {self.engine_number}\\nCapacity : {self.capacity}\")\n",
    "        \n",
    "    def set_data(self,HP,engine_number,capacity):\n",
    "        self.HP = HP\n",
    "        self.engine_number = engine_number\n",
    "        self.capacity = capacity"
   ]
  },
  {
   "cell_type": "code",
   "execution_count": null,
   "metadata": {},
   "outputs": [],
   "source": [
    "class Electric_Car(car):\n",
    "    def __init__(self,make,model,year):\n",
    "        super().__init__(make,model,year)  # this takes all the attributes to the parent ... \n",
    "        self.battery = Battery(\"AGS\",100,200)\n",
    "        self.engine = Engine(1600,\"PKF-1010\",1000)"
   ]
  },
  {
   "cell_type": "code",
   "execution_count": null,
   "metadata": {},
   "outputs": [],
   "source": [
    "eCar = Electric_Car(\"lorem\",\"ipsum\",450)\n",
    "print(eCar.get_descriptive_name())\n",
    "eCar.battery.get_battery_size()\n",
    "eCar.engine.get_data()"
   ]
  },
  {
   "cell_type": "markdown",
   "metadata": {},
   "source": [
    "## File Handling In Python"
   ]
  },
  {
   "cell_type": "code",
   "execution_count": null,
   "metadata": {},
   "outputs": [],
   "source": [
    "with open(\"Testing.txt\" , \"w\") as file:\n",
    "    # the argument w is for write \n",
    "    # write argument creates a file and writes in it \n",
    "    file.write(\"Hello World\")\n",
    "    #if we use with open func() it automatically closes the file after writing ... \n",
    "    #in other func it is must to close the file"
   ]
  },
  {
   "cell_type": "code",
   "execution_count": null,
   "metadata": {},
   "outputs": [],
   "source": [
    "with open(\"Testing.txt\" , \"w\") as file:\n",
    "    file.write(\"Hello World of Python\")"
   ]
  },
  {
   "cell_type": "code",
   "execution_count": null,
   "metadata": {},
   "outputs": [],
   "source": [
    "with open(\"Testing.txt\" , \"r\") as file: #first method \n",
    "    print(file.read())"
   ]
  },
  {
   "cell_type": "code",
   "execution_count": null,
   "metadata": {},
   "outputs": [],
   "source": [
    "with open(\"Testing.txt\" , \"r\") as Document: #second method\n",
    "    content = Document.read()\n",
    "print(content)\n",
    "\n",
    "# the 'r' argument is for reading ... \n",
    "# the word written after \"as\" is an arbitrary name --- "
   ]
  },
  {
   "cell_type": "code",
   "execution_count": null,
   "metadata": {},
   "outputs": [],
   "source": [
    "# with open(\"file name\" , Argument_mode \"w\" || \"r\" || \"a\" || \"r+\")\n",
    "with open(\"Testing.txt\") as Doc:\n",
    "    print(Doc.read())\n",
    "    \n",
    "# if we don't give mode then by_default it considers it in read mode"
   ]
  },
  {
   "cell_type": "code",
   "execution_count": null,
   "metadata": {},
   "outputs": [],
   "source": [
    "with open(\"../../Testing.txt\" , \"a\") as doc: # here \"a\" argument is for append \n",
    "    doc.write(\"\\n\\n\\nhere is the appended text\")\n",
    "with open(\"Testing.txt\" , \"r\") as doc:\n",
    "    print(doc.read())"
   ]
  },
  {
   "cell_type": "code",
   "execution_count": null,
   "metadata": {},
   "outputs": [],
   "source": [
    "with open(\"../Textfiles/UserData.txt\", \"a\") as doc:\n",
    "    doc.write(\"NAME\\tAGE\\tCNIC\\n\")\n",
    "    for x in range(10):\n",
    "        name = input(\"Enter Your name : \")\n",
    "        age = input(\"Enter your age : \")\n",
    "        CNIC = input(\"Enter your CNIC : \")\n",
    "        print(\"\\n\")\n",
    "        doc.write(f\"{name}\\t{age}\\t{CNIC}\\n\")"
   ]
  },
  {
   "cell_type": "code",
   "execution_count": null,
   "metadata": {},
   "outputs": [],
   "source": [
    "with open(\"../Textfiles/UserData.txt\", \"r\") as doc:\n",
    "    print(doc.read())"
   ]
  },
  {
   "cell_type": "code",
   "execution_count": null,
   "metadata": {},
   "outputs": [],
   "source": [
    "with open(\"Testing.txt\",\"r+\") as f:\n",
    "    # it is used for reading as well as appending\n",
    "    print(f.read())\n",
    "    f.write(\"\\nTest\")"
   ]
  },
  {
   "cell_type": "code",
   "execution_count": null,
   "metadata": {},
   "outputs": [],
   "source": [
    "# JSON format is supported in all formats "
   ]
  }
 ],
 "metadata": {
  "kernelspec": {
   "display_name": "Python 3",
   "language": "python",
   "name": "python3"
  },
  "language_info": {
   "codemirror_mode": {
    "name": "ipython",
    "version": 3
   },
   "file_extension": ".py",
   "mimetype": "text/x-python",
   "name": "python",
   "nbconvert_exporter": "python",
   "pygments_lexer": "ipython3",
   "version": "3.7.3"
  }
 },
 "nbformat": 4,
 "nbformat_minor": 2
}
