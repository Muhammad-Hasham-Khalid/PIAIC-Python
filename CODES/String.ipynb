{
 "cells": [
  {
   "cell_type": "code",
   "execution_count": 1,
   "metadata": {
    "colab": {
     "base_uri": "https://localhost:8080/",
     "height": 34
    },
    "colab_type": "code",
    "id": "70FQGH54IIFT",
    "outputId": "eeef4c65-87ea-4b56-d472-0c739faa82fb"
   },
   "outputs": [
    {
     "data": {
      "text/plain": [
       "1"
      ]
     },
     "execution_count": 1,
     "metadata": {},
     "output_type": "execute_result"
    }
   ],
   "source": [
    "10%3 #return remainder"
   ]
  },
  {
   "cell_type": "code",
   "execution_count": 2,
   "metadata": {
    "colab": {
     "base_uri": "https://localhost:8080/",
     "height": 34
    },
    "colab_type": "code",
    "id": "m2MVcUIvIOdx",
    "outputId": "69652a7e-7afe-4e4e-8473-3ac18a333bb8"
   },
   "outputs": [
    {
     "data": {
      "text/plain": [
       "30"
      ]
     },
     "execution_count": 2,
     "metadata": {},
     "output_type": "execute_result"
    }
   ],
   "source": [
    "age = 20\n",
    "age += 10\n",
    "age"
   ]
  },
  {
   "cell_type": "code",
   "execution_count": 3,
   "metadata": {
    "colab": {
     "base_uri": "https://localhost:8080/",
     "height": 34
    },
    "colab_type": "code",
    "id": "R3Cb8VdwIXG5",
    "outputId": "c4348985-029b-49fa-d008-5efa14387de2"
   },
   "outputs": [
    {
     "data": {
      "text/plain": [
       "3"
      ]
     },
     "execution_count": 3,
     "metadata": {},
     "output_type": "execute_result"
    }
   ],
   "source": [
    "10//3"
   ]
  },
  {
   "cell_type": "code",
   "execution_count": 4,
   "metadata": {
    "colab": {
     "base_uri": "https://localhost:8080/",
     "height": 34
    },
    "colab_type": "code",
    "id": "Gj9dPjsDI7rG",
    "outputId": "ca59e18a-f488-4b8c-dddd-190139e1f628"
   },
   "outputs": [
    {
     "data": {
      "text/plain": [
       "8"
      ]
     },
     "execution_count": 4,
     "metadata": {},
     "output_type": "execute_result"
    }
   ],
   "source": [
    "2**3 #used for exponent\n",
    "#first exponents then brackets and then operators ..."
   ]
  },
  {
   "cell_type": "markdown",
   "metadata": {
    "colab_type": "text",
    "id": "vHeQt4z-JdsD"
   },
   "source": [
    "**IF Statements**"
   ]
  },
  {
   "cell_type": "code",
   "execution_count": null,
   "metadata": {
    "colab": {
     "base_uri": "https://localhost:8080/",
     "height": 85
    },
    "colab_type": "code",
    "id": "mpSU6ReAJiSY",
    "outputId": "0d6dcb07-99cf-4755-e7f5-83114aa615b3"
   },
   "outputs": [],
   "source": [
    "print(12 > 10)\n",
    "print(10 == 10)\n",
    "print(10 != 15)\n",
    "print(15 < 2)"
   ]
  },
  {
   "cell_type": "code",
   "execution_count": null,
   "metadata": {
    "colab": {
     "base_uri": "https://localhost:8080/",
     "height": 68
    },
    "colab_type": "code",
    "id": "cZTkX931Jpcw",
    "outputId": "06165ccb-83f6-466a-9ed3-996ee9d3f155"
   },
   "outputs": [],
   "source": [
    "num1 = int(input(\"Enter value of num1 : \"))\n",
    "num2 = int(input(\"Enter value of num2 : \"))\n",
    "if num1 > num2:\n",
    "    print(\"Yes, \" + str(num1) + \" is greater than \" + str(num2))\n",
    "elif num1 < num2:\n",
    "    print(f\"No, {num1} is less than {num2}\")\n",
    "else:\n",
    "    print(f\"{num1} is equal to {num2}\")"
   ]
  },
  {
   "cell_type": "code",
   "execution_count": null,
   "metadata": {
    "colab": {
     "base_uri": "https://localhost:8080/",
     "height": 51
    },
    "colab_type": "code",
    "id": "IFrK1ZT1KbPv",
    "outputId": "56509b28-721c-4a45-a09b-df2955d39048"
   },
   "outputs": [],
   "source": [
    "num = int(input(\"Enter any number : \"))\n",
    "x=num%2\n",
    "if x==0:\n",
    "    print(f\"{num} is even number.\")\n",
    "else:\n",
    "    print(f\"{num} is odd number.\")"
   ]
  },
  {
   "cell_type": "code",
   "execution_count": null,
   "metadata": {
    "colab": {
     "base_uri": "https://localhost:8080/",
     "height": 85
    },
    "colab_type": "code",
    "id": "kufM89ZJLRwK",
    "outputId": "3afa9b24-749b-4918-ed7e-d8e9354cf51c"
   },
   "outputs": [],
   "source": [
    "age = int(input(\"Enter your age : \"))\n",
    "if age >= 18 :\n",
    "    print(\"Age is valid !\")\n",
    "    ticket = input(\"Do you have a ticket : \")\n",
    "    if ticket == \"yes\":\n",
    "        print(\"Ticket Ok\")\n",
    "        print(\"You can enter\")\n",
    "    else:\n",
    "        print(\"you can't enter !\")\n",
    "else:\n",
    "    print(\"You cannot enter\")"
   ]
  },
  {
   "cell_type": "code",
   "execution_count": null,
   "metadata": {
    "colab": {
     "base_uri": "https://localhost:8080/",
     "height": 68
    },
    "colab_type": "code",
    "id": "ounhwIz2OcY0",
    "outputId": "29aca8f7-3106-4bc1-e348-acee48862970"
   },
   "outputs": [],
   "source": [
    "NIC=input(\"Do you have NIC : \")\n",
    "if NIC == \"yes\":\n",
    "    name=input(\"Do you have name in the voter list : \")\n",
    "    if name == \"yes\":\n",
    "        print(\"Yes you can vote ! \")\n",
    "    else:\n",
    "        print(\"You cannot vote !\")\n",
    "else:\n",
    "    print(\"You cannot vote !\")"
   ]
  },
  {
   "cell_type": "code",
   "execution_count": null,
   "metadata": {
    "colab": {},
    "colab_type": "code",
    "id": "Wc6pqO6f-ZNx"
   },
   "outputs": [],
   "source": []
  },
  {
   "cell_type": "markdown",
   "metadata": {
    "colab_type": "text",
    "id": "vktAKcLq-3Z1"
   },
   "source": [
    "**CALCULATOR**\n",
    "---------------------"
   ]
  },
  {
   "cell_type": "code",
   "execution_count": null,
   "metadata": {
    "colab": {
     "base_uri": "https://localhost:8080/",
     "height": 187
    },
    "colab_type": "code",
    "id": "GAtLRrpDQpLC",
    "outputId": "b1ddaddc-482a-41f9-92cb-40729c3f044c"
   },
   "outputs": [],
   "source": [
    "x=int(input(\"Enter value of first number : \"))\n",
    "y=int(input(\"Enter value of second number : \"))\n",
    "z=input(\"Select operator : \\n1-Addition\\n2-Subtraction\\n3-Multiplication\\n4-Division\\n5-Exponent\\n\")\n",
    "if z=='1':\n",
    "    print(\"Answer : \"+ str(x+y))\n",
    "elif z=='2':\n",
    "    print(\"Answer : \"+ str(x-y))\n",
    "elif z=='3':\n",
    "    print(\"Answer : \"+ str(x*y))\n",
    "elif z=='4':\n",
    "    print(\"Answer : \"+ str(x/y))\n",
    "elif z=='5':\n",
    "    print(\"Answer : \"+ str(x**y))\n",
    "else:\n",
    "    print(\"Please select a valid operator !!\")"
   ]
  },
  {
   "cell_type": "markdown",
   "metadata": {
    "colab_type": "text",
    "id": "p8TpaT-TGBgL"
   },
   "source": [
    "**LOGICAL OPERATOR**\n",
    "-----------------------------"
   ]
  },
  {
   "cell_type": "code",
   "execution_count": null,
   "metadata": {
    "colab": {
     "base_uri": "https://localhost:8080/",
     "height": 68
    },
    "colab_type": "code",
    "id": "92Gd9iQu-5es",
    "outputId": "afa6c7ad-ddea-4301-89dd-418677d3d2fb"
   },
   "outputs": [],
   "source": [
    "cnic_status=input(\"Do you have a valid CNIC \").lower()\n",
    "name_in_list=input(\"Is your name present in voter list : \").lower()\n",
    "if (cnic_status==\"yes\") and (name_in_list == \"yes\"):\n",
    "    print(\"Caste your vote..!!\")\n",
    "else:\n",
    "    print(\"You cannot caste your vote !!\")"
   ]
  },
  {
   "cell_type": "code",
   "execution_count": null,
   "metadata": {
    "colab": {
     "base_uri": "https://localhost:8080/",
     "height": 51
    },
    "colab_type": "code",
    "id": "yPiLoo9_GIka",
    "outputId": "ff5f8bba-7445-4f13-dfde-b86a46ff8141"
   },
   "outputs": [],
   "source": [
    "# Grading Calculator \n",
    "marks = int(input(\"Enter Marks : \"))\n",
    "grade = \"\"\n",
    "if marks>=90:\n",
    "    grade = \"A*\"\n",
    "elif marks>=80:\n",
    "    grade = \"A\"\n",
    "elif marks >=70:\n",
    "    grade = \"B\"\n",
    "elif marks >=60:\n",
    "    grade = \"C\"\n",
    "elif marks >=50:\n",
    "    grade = \"D\"\n",
    "else:\n",
    "    grade = \"F\"\n",
    "print(\"Your grade is \" + grade)"
   ]
  },
  {
   "cell_type": "code",
   "execution_count": null,
   "metadata": {
    "colab": {
     "base_uri": "https://localhost:8080/",
     "height": 51
    },
    "colab_type": "code",
    "id": "W96Ts7TAIb41",
    "outputId": "36d463e4-c2b4-4161-9e87-6069dacbeb6c"
   },
   "outputs": [],
   "source": [
    "#Vowels and Consonants \n",
    "x=input(\"Enter any alphabet : \").lower()\n",
    "if(x=='a' or x=='e' or x=='i' or x=='u' or x=='o'):\n",
    "    print(\"You entered a vowel\")\n",
    "else:\n",
    "    print(\"You entered a consonant\")"
   ]
  },
  {
   "cell_type": "markdown",
   "metadata": {
    "colab_type": "text",
    "id": "XBWZNFAJTJy5"
   },
   "source": [
    "**LISTS**\n",
    "------------"
   ]
  },
  {
   "cell_type": "code",
   "execution_count": 1,
   "metadata": {
    "colab": {
     "base_uri": "https://localhost:8080/",
     "height": 34
    },
    "colab_type": "code",
    "id": "-oCET9O8OmGi",
    "outputId": "fd230ff9-903b-4898-dbe1-4056141ea567"
   },
   "outputs": [
    {
     "data": {
      "text/plain": [
       "6"
      ]
     },
     "execution_count": 1,
     "metadata": {},
     "output_type": "execute_result"
    }
   ],
   "source": [
    "My_list=[\"Maaz\",\"Nabeel\",\"Ahsan\",\"Hasham\",\"Midha\",\"Mariam\"]\n",
    "len(My_list)\n",
    "# indexing starts from zero"
   ]
  },
  {
   "cell_type": "code",
   "execution_count": 2,
   "metadata": {
    "colab": {
     "base_uri": "https://localhost:8080/",
     "height": 34
    },
    "colab_type": "code",
    "id": "sq5kHs1kRQt-",
    "outputId": "6ed248a6-17ec-449d-f2ef-dcac8df5a4b1"
   },
   "outputs": [
    {
     "data": {
      "text/plain": [
       "4"
      ]
     },
     "execution_count": 2,
     "metadata": {},
     "output_type": "execute_result"
    }
   ],
   "source": [
    "list=[\"apple\",1223,False,123.45]\n",
    "#list can hold multiple data types together ...!!\n",
    "len(list)"
   ]
  },
  {
   "cell_type": "code",
   "execution_count": 3,
   "metadata": {
    "colab": {
     "base_uri": "https://localhost:8080/",
     "height": 51
    },
    "colab_type": "code",
    "id": "xr10HgwmTiTB",
    "outputId": "88837c37-94bc-4ae5-e44d-a2e4c279ec46"
   },
   "outputs": [
    {
     "name": "stdout",
     "output_type": "stream",
     "text": [
      "Maaz\n",
      "Midha\n"
     ]
    }
   ],
   "source": [
    "print(My_list[0])\n",
    "print(My_list[4])"
   ]
  },
  {
   "cell_type": "code",
   "execution_count": 4,
   "metadata": {
    "colab": {
     "base_uri": "https://localhost:8080/",
     "height": 34
    },
    "colab_type": "code",
    "id": "kjK1KzWYTvMP",
    "outputId": "705cc776-cc10-4429-de16-ca3bbb297cc8"
   },
   "outputs": [
    {
     "name": "stdout",
     "output_type": "stream",
     "text": [
      "['oranges', 1223, 123.45]\n"
     ]
    }
   ],
   "source": [
    "list[0] = \"oranges\"\n",
    "del list[2] \n",
    "print(list)"
   ]
  },
  {
   "cell_type": "code",
   "execution_count": 6,
   "metadata": {
    "colab": {
     "base_uri": "https://localhost:8080/",
     "height": 34
    },
    "colab_type": "code",
    "id": "XhxXjrJ0VLAK",
    "outputId": "33d0b780-508b-489e-d295-16e1ffc6ea19"
   },
   "outputs": [
    {
     "data": {
      "text/plain": [
       "['oranges', 1223, 123.45, '1000', '1000']"
      ]
     },
     "execution_count": 6,
     "metadata": {},
     "output_type": "execute_result"
    }
   ],
   "source": [
    "list.append(\"1000\")\n",
    "list"
   ]
  },
  {
   "cell_type": "code",
   "execution_count": 7,
   "metadata": {
    "colab": {
     "base_uri": "https://localhost:8080/",
     "height": 34
    },
    "colab_type": "code",
    "id": "Oinq-PLLVmfm",
    "outputId": "4a2270d2-90b8-49ff-82ff-2f7940e7ae3c"
   },
   "outputs": [
    {
     "data": {
      "text/plain": [
       "['oranges', 1223, 'hello world', 123.45, '1000', '1000']"
      ]
     },
     "execution_count": 7,
     "metadata": {},
     "output_type": "execute_result"
    }
   ],
   "source": [
    "list.insert(2,\"hello world\")\n",
    "list"
   ]
  },
  {
   "cell_type": "code",
   "execution_count": null,
   "metadata": {
    "colab": {},
    "colab_type": "code",
    "id": "oeEy28PTWFer"
   },
   "outputs": [],
   "source": [
    "myList=['oranges','banana','apples','banana','Grapes','peach']\n",
    "myList.remove('banana')"
   ]
  },
  {
   "cell_type": "code",
   "execution_count": null,
   "metadata": {
    "colab": {
     "base_uri": "https://localhost:8080/",
     "height": 34
    },
    "colab_type": "code",
    "id": "6eZWY4XTD2RO",
    "outputId": "fc187730-bbc1-42cb-a806-3276a1cc2bf4"
   },
   "outputs": [],
   "source": [
    "sortList=[23,45,89,4,7,3]\n",
    "sortList.sort(reverse = True)#the list will be sorted in descending order as reverse order is true\n",
    "print(sortList)"
   ]
  },
  {
   "cell_type": "code",
   "execution_count": null,
   "metadata": {
    "colab": {
     "base_uri": "https://localhost:8080/",
     "height": 34
    },
    "colab_type": "code",
    "id": "pYjrN6t0EXPf",
    "outputId": "c403844d-67cb-4b1b-9b65-1d4876697645"
   },
   "outputs": [],
   "source": [
    "newList=[12,56,88,34,78]\n",
    "newList.reverse() #reverses the order of the list\n",
    "print(newList)\n",
    "#ipynb is the file extension for jupyter and py is the file extension of pure python"
   ]
  },
  {
   "cell_type": "code",
   "execution_count": null,
   "metadata": {
    "colab": {
     "base_uri": "https://localhost:8080/",
     "height": 34
    },
    "colab_type": "code",
    "id": "L4jHqqHUFGuS",
    "outputId": "fb35a6a2-bbbd-48d2-90af-fcf8cdb5f68f"
   },
   "outputs": [],
   "source": [
    "newList.clear()\n",
    "print(newList)"
   ]
  },
  {
   "cell_type": "code",
   "execution_count": null,
   "metadata": {
    "colab": {
     "base_uri": "https://localhost:8080/",
     "height": 34
    },
    "colab_type": "code",
    "id": "bt9BD98wFvtf",
    "outputId": "59a91d77-16f6-4a2a-99eb-f1c9cd2bed1c"
   },
   "outputs": [],
   "source": [
    "stringList=['Hasham','Midha','Maaz','Mariam','Ahsan','Nabeel']\n",
    "stringList.sort()\n",
    "print(stringList)"
   ]
  },
  {
   "cell_type": "code",
   "execution_count": null,
   "metadata": {
    "colab": {
     "base_uri": "https://localhost:8080/",
     "height": 34
    },
    "colab_type": "code",
    "id": "l-R50U11GAVf",
    "outputId": "f0e8fce8-0adc-4496-eb18-032e64b8b976"
   },
   "outputs": [],
   "source": [
    "bList=['A','b','x','t','a','Xy']\n",
    "bList.sort()\n",
    "print(bList)"
   ]
  },
  {
   "cell_type": "code",
   "execution_count": null,
   "metadata": {
    "colab": {
     "base_uri": "https://localhost:8080/",
     "height": 51
    },
    "colab_type": "code",
    "id": "hmN8VSkJGhCw",
    "outputId": "a29e48dc-1c36-4ddc-b0c5-8939683a8507"
   },
   "outputs": [],
   "source": [
    "popList=[23,7886,56,4,78,84]\n",
    "x=popList.pop()\n",
    "print(popList)\n",
    "print(x)"
   ]
  },
  {
   "cell_type": "code",
   "execution_count": null,
   "metadata": {
    "colab": {},
    "colab_type": "code",
    "id": "nW7rxUY1JZ4l"
   },
   "outputs": [],
   "source": [
    "a=[]\n",
    "b=[12,13,14,15]\n",
    "#code was crashing that is why we used if and else ... "
   ]
  },
  {
   "cell_type": "code",
   "execution_count": null,
   "metadata": {
    "colab": {
     "base_uri": "https://localhost:8080/",
     "height": 51
    },
    "colab_type": "code",
    "id": "5ka1e4D2Hc1f",
    "outputId": "68f8e6c5-5807-473d-94be-01648f6e64f7"
   },
   "outputs": [],
   "source": [
    "if len(b)==0:\n",
    "    print(\"List has become empty !!\")\n",
    "else:\n",
    "    a.append(b.pop())\n",
    "    print(a)\n",
    "    print(b)"
   ]
  },
  {
   "cell_type": "code",
   "execution_count": null,
   "metadata": {
    "colab": {
     "base_uri": "https://localhost:8080/",
     "height": 54
    },
    "colab_type": "code",
    "id": "RFc_umh9OUKW",
    "outputId": "b5b9f571-0fff-431a-a350-4e150f6ce9cf"
   },
   "outputs": [],
   "source": [
    "'''to do list \n",
    "* input = whether the work is done or not ?\n",
    "answer : yes \n",
    "task . pop \n",
    "task . append --> (done list)\n",
    "if answer : no \n",
    "alert(\"please perform this task \")'''"
   ]
  },
  {
   "cell_type": "markdown",
   "metadata": {
    "colab_type": "text",
    "id": "R5RZ2Gl2Ug8H"
   },
   "source": [
    "**PASS BY REFRENCE**\n",
    "----------------------------"
   ]
  },
  {
   "cell_type": "code",
   "execution_count": 8,
   "metadata": {
    "colab": {},
    "colab_type": "code",
    "id": "nU1K2zucSPm5"
   },
   "outputs": [],
   "source": [
    "# refrence b = c values will be changed for both of them ... !!\n",
    "# passing by refrence \n",
    "# this is like a shallow copy \n",
    "# for removal of this pb we use copy() function"
   ]
  },
  {
   "cell_type": "code",
   "execution_count": 9,
   "metadata": {
    "colab": {
     "base_uri": "https://localhost:8080/",
     "height": 34
    },
    "colab_type": "code",
    "id": "uEA-M2rEUFBl",
    "outputId": "9527100c-d9ab-43a3-ae54-81ecffbf23c7"
   },
   "outputs": [
    {
     "name": "stdout",
     "output_type": "stream",
     "text": [
      "[2, 3, 5, 6] [2, 3, 4, 5, 6]\n"
     ]
    }
   ],
   "source": [
    "b = [2,3,4,5,6]\n",
    "c = b.copy()\n",
    "del b[2]\n",
    "print (b , c)"
   ]
  },
  {
   "cell_type": "markdown",
   "metadata": {
    "colab_type": "text",
    "id": "yxQ4Iz1cV46p"
   },
   "source": [
    "**SLICING**\n",
    "--------------"
   ]
  },
  {
   "cell_type": "code",
   "execution_count": 10,
   "metadata": {
    "colab": {
     "base_uri": "https://localhost:8080/",
     "height": 85
    },
    "colab_type": "code",
    "id": "-P6UMkVtUc2A",
    "outputId": "5ff712a1-7975-415b-9d6c-db6d9c8dc281"
   },
   "outputs": [
    {
     "name": "stdout",
     "output_type": "stream",
     "text": [
      "33\n",
      "[22, 33, 44]\n",
      "[]\n",
      "[22, 44, 66]\n"
     ]
    }
   ],
   "source": [
    "d = [11,22,33,44,55,66,77,88]\n",
    "print(d[2])\n",
    "print(d[1:4])\n",
    "print(d[4:1]) # slicing direction is always left to right if u give wrong index then if would return 0\n",
    "print(d[1:7:2]) # seventh would not be counted : as last one is not counted !!!"
   ]
  },
  {
   "cell_type": "markdown",
   "metadata": {
    "colab_type": "text",
    "id": "aSXZjjMmXs3k"
   },
   "source": [
    "**REVERSE INDEX**\n",
    "-----------------------"
   ]
  },
  {
   "cell_type": "code",
   "execution_count": 11,
   "metadata": {
    "colab": {
     "base_uri": "https://localhost:8080/",
     "height": 68
    },
    "colab_type": "code",
    "id": "rqPA_e4tWTES",
    "outputId": "95578597-ee2e-413a-d01c-3d92d562c793"
   },
   "outputs": [
    {
     "name": "stdout",
     "output_type": "stream",
     "text": [
      "Islamabad\n",
      "Islamabad\n",
      "['Rawalpindi', 'Hyderabad', 'Quetta', 'Peshawar', 'Multan', 'Islamabad', 'Lahore', 'karachi']\n"
     ]
    }
   ],
   "source": [
    "#index     0         1          2          3        4           5         6         7\n",
    "cities=['karachi','Lahore','Islamabad','Multan','Peshawar','Quetta','Hyderabad','Rawalpindi']\n",
    "#index    -8        -7          -6        -5       -4          -3        -2         -1\n",
    "print(cities[-6])\n",
    "print(cities[2])\n",
    "print(cities[::-1])"
   ]
  },
  {
   "cell_type": "code",
   "execution_count": 12,
   "metadata": {
    "colab": {
     "base_uri": "https://localhost:8080/",
     "height": 34
    },
    "colab_type": "code",
    "id": "biv8AZDGYGym",
    "outputId": "de4c9c7a-9c63-4533-a7d9-abd05224590c"
   },
   "outputs": [
    {
     "name": "stdout",
     "output_type": "stream",
     "text": [
      "['Peshawar', 'Quetta']\n"
     ]
    }
   ],
   "source": [
    "print(cities[-4:-2])"
   ]
  },
  {
   "cell_type": "code",
   "execution_count": 13,
   "metadata": {
    "colab": {
     "base_uri": "https://localhost:8080/",
     "height": 119
    },
    "colab_type": "code",
    "id": "_YWkUABhY02z",
    "outputId": "4b3e6d5a-494e-4e05-9f7a-b102fb0ac932"
   },
   "outputs": [
    {
     "name": "stdout",
     "output_type": "stream",
     "text": [
      "['Multan', 'Peshawar', 'Quetta', 'Hyderabad', 'Rawalpindi']\n",
      "['karachi', 'Lahore', 'Islamabad', 'Multan', 'Peshawar']\n",
      "['Multan']\n",
      "[]\n",
      "[]\n",
      "[]\n"
     ]
    }
   ],
   "source": [
    "print(cities[3:])\n",
    "print(cities[:5])\n",
    "print(cities[-5:4])\n",
    "print(cities[-5:1]) # it will not look at the back \n",
    "print(cities[-5:2]) # last index not included \n",
    "print(cities[-5:3]) "
   ]
  }
 ],
 "metadata": {
  "colab": {
   "collapsed_sections": [],
   "name": "String.ipynb",
   "provenance": [],
   "version": "0.3.2"
  },
  "kernelspec": {
   "display_name": "Python 3",
   "language": "python",
   "name": "python3"
  },
  "language_info": {
   "codemirror_mode": {
    "name": "ipython",
    "version": 3
   },
   "file_extension": ".py",
   "mimetype": "text/x-python",
   "name": "python",
   "nbconvert_exporter": "python",
   "pygments_lexer": "ipython3",
   "version": "3.7.3"
  }
 },
 "nbformat": 4,
 "nbformat_minor": 2
}
