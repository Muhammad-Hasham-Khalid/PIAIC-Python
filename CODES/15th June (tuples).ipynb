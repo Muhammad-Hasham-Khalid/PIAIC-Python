{
 "cells": [
  {
   "cell_type": "markdown",
   "metadata": {},
   "source": [
    "# Tuples"
   ]
  },
  {
   "cell_type": "code",
   "execution_count": 1,
   "metadata": {},
   "outputs": [
    {
     "name": "stdout",
     "output_type": "stream",
     "text": [
      "(1, 2, 3, 4, 5, 6, 7, 8, 9)\n"
     ]
    }
   ],
   "source": [
    "#tuples works just like a list \n",
    "#tuples are immutable while lists are mutable\n",
    "#can't be altered or appended or added or deleted\n",
    "myTupple = (1,2,3,4,5,6,7,8,9)\n",
    "print(myTupple)"
   ]
  },
  {
   "cell_type": "code",
   "execution_count": 2,
   "metadata": {},
   "outputs": [
    {
     "name": "stdout",
     "output_type": "stream",
     "text": [
      "5\n",
      "(2, 3, 4)\n"
     ]
    }
   ],
   "source": [
    "print(myTupple[4])\n",
    "print(myTupple[1:4])"
   ]
  },
  {
   "cell_type": "code",
   "execution_count": 3,
   "metadata": {},
   "outputs": [],
   "source": [
    "# del myTupple[3]  --- this method is not supported in tuples\n",
    "# "
   ]
  },
  {
   "cell_type": "code",
   "execution_count": 4,
   "metadata": {},
   "outputs": [
    {
     "name": "stdout",
     "output_type": "stream",
     "text": [
      "1\n",
      "4\n"
     ]
    }
   ],
   "source": [
    "print(myTupple.count(3))\n",
    "print(myTupple.index(5))"
   ]
  },
  {
   "cell_type": "code",
   "execution_count": 5,
   "metadata": {},
   "outputs": [
    {
     "name": "stdout",
     "output_type": "stream",
     "text": [
      "khi\n",
      "lhr\n",
      "multan\n"
     ]
    }
   ],
   "source": [
    "# Packing \n",
    "cities = (\"khi\",\"lhr\",\"multan\") \n",
    "# putting many values in a single variable is called packing.\n",
    "# We do packing in lists, tuples etc.\n",
    "#Unpacking\n",
    "largest,bigger,small = cities\n",
    "# unpacking requires same no. of variable as no. of elements in list/tuples\n",
    "print(largest)\n",
    "print(bigger)\n",
    "print(small)"
   ]
  },
  {
   "cell_type": "code",
   "execution_count": 6,
   "metadata": {},
   "outputs": [
    {
     "name": "stdout",
     "output_type": "stream",
     "text": [
      "Balochistan\n"
     ]
    }
   ],
   "source": [
    "# we can change in unpacked variables\n",
    "largest = \"Balochistan\"\n",
    "print(largest)"
   ]
  },
  {
   "cell_type": "code",
   "execution_count": 7,
   "metadata": {},
   "outputs": [
    {
     "name": "stdout",
     "output_type": "stream",
     "text": [
      "15 16 17\n"
     ]
    }
   ],
   "source": [
    "alist = [15,16,17] # packing\n",
    "fifteen,sixteen,seventeen = alist\n",
    "print(fifteen,sixteen,seventeen)"
   ]
  },
  {
   "cell_type": "markdown",
   "metadata": {},
   "source": [
    "# FOR Loops "
   ]
  },
  {
   "cell_type": "code",
   "execution_count": 8,
   "metadata": {},
   "outputs": [],
   "source": [
    "# loops are for iteration/repetition\n",
    "# if something is to be done again and again we use loops...\n",
    "# for example task == print your name 10 times\n",
    "# how fast your code gets executed ... less no. of lines in code\n",
    "# less time complexity and efficient code "
   ]
  },
  {
   "cell_type": "code",
   "execution_count": 9,
   "metadata": {},
   "outputs": [
    {
     "name": "stdout",
     "output_type": "stream",
     "text": [
      "first method : \n",
      "\n",
      "karachi\n",
      "Lahore\n",
      "Islamabad\n",
      "Multan\n"
     ]
    }
   ],
   "source": [
    "name = [\"karachi\",\"Lahore\",\"Islamabad\",\"Multan\"]\n",
    "print(\"first method : \\n\")\n",
    "for var in name:\n",
    "    print(var)"
   ]
  },
  {
   "cell_type": "code",
   "execution_count": 10,
   "metadata": {},
   "outputs": [
    {
     "name": "stdout",
     "output_type": "stream",
     "text": [
      "\n",
      "second method : \n",
      "\n",
      "karachi\n",
      "Lahore\n",
      "Islamabad\n",
      "Multan\n"
     ]
    }
   ],
   "source": [
    "print(\"\\nsecond method : \\n\")\n",
    "# we can also use the range funtion here ---\n",
    "for vari in range(len(name)):\n",
    "    print(name[vari])"
   ]
  },
  {
   "cell_type": "code",
   "execution_count": 11,
   "metadata": {},
   "outputs": [
    {
     "name": "stdout",
     "output_type": "stream",
     "text": [
      "\n",
      "name task : \n",
      "\n",
      "Hasham 0\n",
      "Hasham 1\n",
      "Hasham 2\n",
      "Hasham 3\n",
      "Hasham 4\n",
      "Hasham 5\n",
      "Hasham 6\n",
      "Hasham 7\n",
      "Hasham 8\n",
      "Hasham 9\n"
     ]
    }
   ],
   "source": [
    "print(\"\\nname task : \\n\")\n",
    "for a in range(10): # ending point is (n-1)\n",
    "    print(\"Hasham \"+ str(a))"
   ]
  },
  {
   "cell_type": "code",
   "execution_count": 12,
   "metadata": {},
   "outputs": [
    {
     "name": "stdout",
     "output_type": "stream",
     "text": [
      "\n",
      "name task (custom-index) : \n",
      "\n",
      "Hasham 5\n",
      "Hasham 6\n",
      "Hasham 7\n",
      "Hasham 8\n",
      "Hasham 9\n"
     ]
    }
   ],
   "source": [
    "print(\"\\nname task (custom-index) : \\n\")\n",
    "for a in range(5,10): # ending point is (n-1)\n",
    "    print(\"Hasham \"+ str(a))"
   ]
  },
  {
   "cell_type": "code",
   "execution_count": 13,
   "metadata": {},
   "outputs": [
    {
     "name": "stdout",
     "output_type": "stream",
     "text": [
      "\n",
      "name task (step-funtion): \n",
      "\n",
      "Hasham 0\n",
      "Hasham 2\n",
      "Hasham 4\n",
      "Hasham 6\n",
      "Hasham 8\n"
     ]
    }
   ],
   "source": [
    "print(\"\\nname task (step-funtion): \\n\")\n",
    "for a in range(0,10,2): # ending point is (n-1)\n",
    "    print(\"Hasham \"+ str(a))"
   ]
  },
  {
   "cell_type": "code",
   "execution_count": 14,
   "metadata": {},
   "outputs": [
    {
     "name": "stdout",
     "output_type": "stream",
     "text": [
      "10\n",
      "9\n",
      "8\n",
      "7\n",
      "6\n",
      "5\n",
      "4\n",
      "3\n",
      "2\n",
      "1\n"
     ]
    }
   ],
   "source": [
    "# for loops (start, end-1, step)\n",
    "for b in range(10,0,2):\n",
    "    print(b)\n",
    "    # this will not print anything bcz the range is wrong given\n",
    "    #and the steps given are in positive\n",
    "for c in range(10,0,-1):\n",
    "    print(c)"
   ]
  },
  {
   "cell_type": "code",
   "execution_count": 15,
   "metadata": {},
   "outputs": [
    {
     "name": "stdout",
     "output_type": "stream",
     "text": [
      "hasham\n",
      "maaz\n",
      "mariam\n",
      "Midha\n"
     ]
    }
   ],
   "source": [
    "myList = [\"hasham\",\"maaz\",\"mariam\",\"Midha\"]\n",
    "for friend in myList:\n",
    "    print(friend)"
   ]
  },
  {
   "cell_type": "code",
   "execution_count": 16,
   "metadata": {},
   "outputs": [
    {
     "name": "stdout",
     "output_type": "stream",
     "text": [
      "E\n",
      "N\n",
      "C\n",
      "Y\n",
      "C\n",
      "L\n",
      "O\n",
      "P\n",
      "E\n",
      "D\n",
      "I\n",
      "A\n"
     ]
    }
   ],
   "source": [
    "for char in \"Encyclopedia\":\n",
    "    print(char.upper())"
   ]
  },
  {
   "cell_type": "code",
   "execution_count": 17,
   "metadata": {},
   "outputs": [
    {
     "name": "stdout",
     "output_type": "stream",
     "text": [
      "['Midha', 'mariam', 'maaz', 'hasham']\n"
     ]
    }
   ],
   "source": [
    "myList.reverse()\n",
    "print(myList)"
   ]
  },
  {
   "cell_type": "markdown",
   "metadata": {},
   "source": [
    "# pass, break, continue:"
   ]
  },
  {
   "cell_type": "code",
   "execution_count": 18,
   "metadata": {},
   "outputs": [
    {
     "name": "stdout",
     "output_type": "stream",
     "text": [
      "1\n",
      "2\n"
     ]
    }
   ],
   "source": [
    "for a in range(1,11):\n",
    "    if a%3==0:\n",
    "        break\n",
    "    print(a)"
   ]
  },
  {
   "cell_type": "code",
   "execution_count": 19,
   "metadata": {},
   "outputs": [
    {
     "name": "stdout",
     "output_type": "stream",
     "text": [
      "continue and enjoy party\n",
      "continue and enjoy party\n",
      "continue and enjoy party\n",
      "continue and enjoy party\n",
      "party is over\n",
      "continue and enjoy party\n",
      "continue and enjoy party\n"
     ]
    }
   ],
   "source": [
    "friends = [\"a\",\"b\",\"c\",\"d\",\"e\",\"f\",\"g\"]\n",
    "for friend in friends:\n",
    "    if friend!=\"e\":\n",
    "        print(\"continue and enjoy party\")\n",
    "    else:\n",
    "        print(\"party is over\")"
   ]
  },
  {
   "cell_type": "code",
   "execution_count": 20,
   "metadata": {},
   "outputs": [
    {
     "name": "stdout",
     "output_type": "stream",
     "text": [
      "party on a has arrived\n",
      "party on b has arrived\n",
      "party on c has arrived\n",
      "party on d has arrived\n",
      "party on f has arrived\n",
      "party on g has arrived\n"
     ]
    }
   ],
   "source": [
    "for friend in friends:\n",
    "    if friend==\"e\":\n",
    "        continue\n",
    "    else:\n",
    "        print(\"party on \"+friend+\" has arrived\")"
   ]
  },
  {
   "cell_type": "code",
   "execution_count": 21,
   "metadata": {},
   "outputs": [],
   "source": [
    "for a in range(10):\n",
    "    pass # where we want to leave the body empty we use pass"
   ]
  },
  {
   "cell_type": "code",
   "execution_count": 22,
   "metadata": {},
   "outputs": [
    {
     "name": "stdout",
     "output_type": "stream",
     "text": [
      "Enter any number:\n"
     ]
    },
    {
     "ename": "ValueError",
     "evalue": "invalid literal for int() with base 10: ''",
     "output_type": "error",
     "traceback": [
      "\u001b[1;31m---------------------------------------------------------------------------\u001b[0m",
      "\u001b[1;31mValueError\u001b[0m                                Traceback (most recent call last)",
      "\u001b[1;32m<ipython-input-22-fbaab01ed2af>\u001b[0m in \u001b[0;36m<module>\u001b[1;34m\u001b[0m\n\u001b[1;32m----> 1\u001b[1;33m \u001b[0mnum\u001b[0m \u001b[1;33m=\u001b[0m \u001b[0mint\u001b[0m\u001b[1;33m(\u001b[0m\u001b[0minput\u001b[0m\u001b[1;33m(\u001b[0m\u001b[1;34m\"Enter any number:\"\u001b[0m\u001b[1;33m)\u001b[0m\u001b[1;33m)\u001b[0m\u001b[1;33m\u001b[0m\u001b[1;33m\u001b[0m\u001b[0m\n\u001b[0m\u001b[0;32m      2\u001b[0m \u001b[1;32mfor\u001b[0m \u001b[0mmul\u001b[0m \u001b[1;32min\u001b[0m \u001b[0mrange\u001b[0m\u001b[1;33m(\u001b[0m\u001b[1;36m1\u001b[0m\u001b[1;33m,\u001b[0m\u001b[1;36m11\u001b[0m\u001b[1;33m)\u001b[0m\u001b[1;33m:\u001b[0m\u001b[1;33m\u001b[0m\u001b[1;33m\u001b[0m\u001b[0m\n\u001b[0;32m      3\u001b[0m     \u001b[0mprint\u001b[0m\u001b[1;33m(\u001b[0m\u001b[0mstr\u001b[0m\u001b[1;33m(\u001b[0m\u001b[0mnum\u001b[0m\u001b[1;33m)\u001b[0m\u001b[1;33m+\u001b[0m\u001b[1;34m\" x \"\u001b[0m\u001b[1;33m+\u001b[0m\u001b[0mstr\u001b[0m\u001b[1;33m(\u001b[0m\u001b[0mmul\u001b[0m\u001b[1;33m)\u001b[0m\u001b[1;33m+\u001b[0m\u001b[1;34m\" = \"\u001b[0m\u001b[1;33m+\u001b[0m\u001b[0mstr\u001b[0m\u001b[1;33m(\u001b[0m\u001b[0mnum\u001b[0m\u001b[1;33m*\u001b[0m\u001b[0mmul\u001b[0m\u001b[1;33m)\u001b[0m\u001b[1;33m)\u001b[0m\u001b[1;33m\u001b[0m\u001b[1;33m\u001b[0m\u001b[0m\n",
      "\u001b[1;31mValueError\u001b[0m: invalid literal for int() with base 10: ''"
     ]
    }
   ],
   "source": [
    "num = int(input(\"Enter any number:\"))\n",
    "for mul in range(1,11):\n",
    "    print(str(num)+\" x \"+str(mul)+\" = \"+str(num*mul))"
   ]
  },
  {
   "cell_type": "markdown",
   "metadata": {},
   "source": [
    "# Nested For Loop:"
   ]
  },
  {
   "cell_type": "code",
   "execution_count": null,
   "metadata": {},
   "outputs": [],
   "source": [
    "for tables in range(2,10,2):\n",
    "    for num in range(1,11):\n",
    "        print(f\"{tables} x {num} = {tables*num}\")\n",
    "    print(\"\\n\\n\")"
   ]
  },
  {
   "cell_type": "code",
   "execution_count": null,
   "metadata": {},
   "outputs": [],
   "source": [
    "first_names=[\"Hasham\",\"Maaz\",\"Midha\",\"Mariam\"]\n",
    "last_names=[\"Khalid\",\"Shah\",\"Tahir\",\"Naz\"]\n",
    "fullnames=[]\n",
    "for first in first_names:\n",
    "    for last in last_names:\n",
    "        fullnames.append(first+\" \"+last)\n",
    "print(fullnames)"
   ]
  },
  {
   "cell_type": "markdown",
   "metadata": {},
   "source": [
    "# Dictionary"
   ]
  },
  {
   "cell_type": "code",
   "execution_count": null,
   "metadata": {},
   "outputs": [],
   "source": [
    "myDic = {}"
   ]
  },
  {
   "cell_type": "code",
   "execution_count": null,
   "metadata": {},
   "outputs": [],
   "source": [
    "print(len(myDic))\n",
    "print(type(myDic))\n",
    "#dictionary = {key : value}\n",
    "myDic = {\"name\":\"Hasham\",\"age\":17,\"Degree\":\"BE\"}\n",
    "print(myDic[\"name\"],myDic[\"age\"])\n",
    "myDic.get(\"Degree\")\n",
    "# key and value can be of any data type"
   ]
  },
  {
   "cell_type": "code",
   "execution_count": null,
   "metadata": {},
   "outputs": [],
   "source": [
    "''' built ins for the list \n",
    "append\n",
    "remove \n",
    "pop\n",
    "del\n",
    "sort\n",
    "copy\n",
    "clear\n",
    "count\n",
    "index\n",
    "insert\n",
    "reverse'''\n",
    "                        \n",
    "'''built ins for tuples\n",
    "Method   Description\n",
    "count()  Returns the number of times a specified value occurs in a tuple\n",
    "index()  Searches the tuple for a specified value and returns the position of where it was found'''\n"
   ]
  },
  {
   "cell_type": "code",
   "execution_count": null,
   "metadata": {},
   "outputs": [],
   "source": [
    "## methods are values(), keys(), items()\n",
    "# using items\n",
    "for key,value in myDic.items(): # key goes in first variable and value goes in second variable\n",
    "    print(f\"{key} = {value}\")"
   ]
  },
  {
   "cell_type": "code",
   "execution_count": null,
   "metadata": {},
   "outputs": [],
   "source": [
    "#using keys \n",
    "for key in myDic.keys():\n",
    "    print(f\"{key} = {myDic[key]}\")"
   ]
  },
  {
   "cell_type": "code",
   "execution_count": null,
   "metadata": {},
   "outputs": [],
   "source": [
    "#using values \n",
    "for value in myDic.values():\n",
    "    print(f\"{value}\")"
   ]
  },
  {
   "cell_type": "code",
   "execution_count": null,
   "metadata": {},
   "outputs": [],
   "source": [
    "len(myDic)"
   ]
  },
  {
   "cell_type": "code",
   "execution_count": null,
   "metadata": {},
   "outputs": [],
   "source": [
    "# the function of list,tuples,dictionaries is to hold multiple values in a single variable "
   ]
  },
  {
   "cell_type": "markdown",
   "metadata": {},
   "source": [
    "# LIST IN LIST"
   ]
  },
  {
   "cell_type": "code",
   "execution_count": null,
   "metadata": {},
   "outputs": [],
   "source": [
    "a = [11,22,33,44,55]\n",
    "b = [66,77,88,99,100]\n",
    "c = [\"apple\",\"orange\",a,b,[15,16,17]]\n",
    "print(c)\n",
    "print(c[3])\n",
    "print(c[3][2]) # the second index is for the inner list in the 'c' list \n",
    "print(c[3][1:])\n",
    "# we can also delete any member using this method \n",
    "c[2].remove(44)"
   ]
  },
  {
   "cell_type": "markdown",
   "metadata": {},
   "source": [
    " -Dictionary in List\n",
    " \n",
    " -list in Dictionary\n",
    " \n",
    " -tuple in Dictionary\n",
    " \n",
    " -tuple in Tuple\n",
    " \n",
    " -tuple in list\n",
    " \n",
    " -list in tuple \n",
    " \n",
    " -Dictionary in Dictionary \n",
    " \n",
    " -Dictionary in Tuple\n"
   ]
  },
  {
   "cell_type": "code",
   "execution_count": null,
   "metadata": {},
   "outputs": [],
   "source": [
    "aa = [11,22,33,myDic]\n",
    "aa"
   ]
  },
  {
   "cell_type": "markdown",
   "metadata": {},
   "source": [
    "# DYS ==> \"Tuples in list\""
   ]
  },
  {
   "cell_type": "code",
   "execution_count": null,
   "metadata": {},
   "outputs": [],
   "source": [
    "tup=(\"Hasham\",\"Khalid\",\"Imran\")\n",
    "lst=[\"Afnan\",\"Hassan\",tup]\n",
    "print(lst[2][1])\n",
    "diction={\"name\":\"Fasih\",\"technology\":\"Software\"}\n",
    "lst.append(diction)\n",
    "print(lst)\n",
    "lst[3][\"grade\"]=\"A\"\n",
    "print(lst)"
   ]
  },
  {
   "cell_type": "code",
   "execution_count": null,
   "metadata": {},
   "outputs": [],
   "source": [
    "myDic[\"numbers\"]=a"
   ]
  },
  {
   "cell_type": "code",
   "execution_count": null,
   "metadata": {},
   "outputs": [],
   "source": [
    "print(myDic)"
   ]
  },
  {
   "cell_type": "code",
   "execution_count": null,
   "metadata": {},
   "outputs": [],
   "source": [
    "myDic[\"numbers\"].remove(22)\n",
    "print(myDic)"
   ]
  },
  {
   "cell_type": "code",
   "execution_count": null,
   "metadata": {},
   "outputs": [],
   "source": [
    "qq = {\"knowledge\":myDic,\"Secondary\":\"true\"}"
   ]
  },
  {
   "cell_type": "code",
   "execution_count": null,
   "metadata": {},
   "outputs": [],
   "source": [
    "print(qq)"
   ]
  },
  {
   "cell_type": "code",
   "execution_count": null,
   "metadata": {},
   "outputs": [],
   "source": [
    "qq[\"knowledge\"]['numbers'].remove(33)"
   ]
  },
  {
   "cell_type": "code",
   "execution_count": null,
   "metadata": {},
   "outputs": [],
   "source": [
    "print(qq)"
   ]
  },
  {
   "cell_type": "code",
   "execution_count": null,
   "metadata": {},
   "outputs": [],
   "source": [
    "tt = {\"name\" : \"Hasham\",\"age\":20,\"name\":\"Midha\"}\n",
    "print(tt)\n",
    "#it will over write"
   ]
  },
  {
   "cell_type": "code",
   "execution_count": null,
   "metadata": {},
   "outputs": [],
   "source": [
    "tt.pop(\"age\")"
   ]
  },
  {
   "cell_type": "code",
   "execution_count": null,
   "metadata": {},
   "outputs": [],
   "source": [
    "print(tt)"
   ]
  },
  {
   "cell_type": "code",
   "execution_count": null,
   "metadata": {},
   "outputs": [],
   "source": [
    "tt['hello']=\"python\"\n",
    "print(tt)"
   ]
  },
  {
   "cell_type": "markdown",
   "metadata": {},
   "source": [
    "# DYS ==> all data structures and their functions  "
   ]
  },
  {
   "cell_type": "code",
   "execution_count": null,
   "metadata": {},
   "outputs": [],
   "source": [
    "x=-7\n",
    "while x<3:\n",
    "    print(\"what the flux !! :P\")\n",
    "    x+=1"
   ]
  }
 ],
 "metadata": {
  "kernelspec": {
   "display_name": "Python 3",
   "language": "python",
   "name": "python3"
  },
  "language_info": {
   "codemirror_mode": {
    "name": "ipython",
    "version": 3
   },
   "file_extension": ".py",
   "mimetype": "text/x-python",
   "name": "python",
   "nbconvert_exporter": "python",
   "pygments_lexer": "ipython3",
   "version": "3.7.3"
  }
 },
 "nbformat": 4,
 "nbformat_minor": 2
}
