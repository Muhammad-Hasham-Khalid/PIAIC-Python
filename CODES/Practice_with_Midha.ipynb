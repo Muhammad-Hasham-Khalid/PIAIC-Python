{
 "cells": [
  {
   "cell_type": "code",
   "execution_count": null,
   "metadata": {},
   "outputs": [],
   "source": [
    "print(36/(4*(7-4)))\n",
    "# 7-4 = 3\n",
    "# 3*4 = 12\n",
    "# 36/12 = 3  "
   ]
  },
  {
   "cell_type": "code",
   "execution_count": null,
   "metadata": {},
   "outputs": [],
   "source": [
    "print(36/4*(7-4))\n",
    "# 7-4 = 3\n",
    "# 36/4 = 9\n",
    "# 9*3 = 27"
   ]
  },
  {
   "cell_type": "code",
   "execution_count": null,
   "metadata": {},
   "outputs": [],
   "source": [
    "print(4 + 3 % 5)\n",
    "# here the remainder will be 3 \n",
    "# then 4 + 3 = 7"
   ]
  },
  {
   "cell_type": "code",
   "execution_count": null,
   "metadata": {},
   "outputs": [],
   "source": [
    "a = int(input(\"A = \"))\n",
    "b = int(input(\"B = \"))\n",
    "result = a % b // a\n",
    "print(\"Answer : \",result)"
   ]
  },
  {
   "cell_type": "code",
   "execution_count": null,
   "metadata": {},
   "outputs": [],
   "source": [
    "x = int(43.55+2/2)\n",
    "print(x)"
   ]
  },
  {
   "cell_type": "code",
   "execution_count": null,
   "metadata": {},
   "outputs": [],
   "source": [
    "print('{0:.2}'.format(1/3))"
   ]
  },
  {
   "cell_type": "code",
   "execution_count": null,
   "metadata": {},
   "outputs": [],
   "source": [
    "name = \"Hasham\"\n",
    "age = 17\n",
    "percentage = (457/550)*100\n",
    "print(\"my name is {0} and my age is {1} and my FSC percentage was {2:.4} %\".format(name,age,percentage))\n",
    "print(\"my name is {0} and my age is {1} and my FSC percentage was {2:.2f} %\".format(name,age,percentage))"
   ]
  },
  {
   "cell_type": "code",
   "execution_count": null,
   "metadata": {},
   "outputs": [],
   "source": [
    "print(f\"my name is {name} and my age is {age} and my percentage is {percentage:.4}\")"
   ]
  },
  {
   "cell_type": "code",
   "execution_count": null,
   "metadata": {},
   "outputs": [],
   "source": [
    "if (9 < 0) and (0 < -9): # false && false == false\n",
    "    print(\"hello\")\n",
    "elif (9 > 0) or False:  # true || false == true\n",
    "    print(\"good\") \n",
    "else: \n",
    "    print(\"bad\")\n"
   ]
  },
  {
   "cell_type": "code",
   "execution_count": null,
   "metadata": {},
   "outputs": [],
   "source": [
    "print(not(10<20) and not(10>30))  # !(true) and !(false) == false and true == false"
   ]
  },
  {
   "cell_type": "code",
   "execution_count": null,
   "metadata": {},
   "outputs": [],
   "source": [
    "hello = list(\"hello\")\n",
    "print(hello)\n",
    "hello_copy = hello.copy()"
   ]
  },
  {
   "cell_type": "code",
   "execution_count": null,
   "metadata": {},
   "outputs": [],
   "source": [
    "single_hello = list([\"hello\"])\n",
    "print(single_hello)"
   ]
  },
  {
   "cell_type": "code",
   "execution_count": null,
   "metadata": {},
   "outputs": [],
   "source": [
    "numbers = list([1,2,3,4])\n",
    "print(numbers)"
   ]
  },
  {
   "cell_type": "code",
   "execution_count": null,
   "metadata": {},
   "outputs": [],
   "source": [
    "print(len(hello))"
   ]
  },
  {
   "cell_type": "code",
   "execution_count": null,
   "metadata": {},
   "outputs": [],
   "source": [
    "#         0    1    2    3 \n",
    "list1 = [2445,133,12454,123]\n",
    "#        -4   -3   -2   -1 \n",
    "print(max(list1))"
   ]
  },
  {
   "cell_type": "code",
   "execution_count": null,
   "metadata": {},
   "outputs": [],
   "source": [
    "import random\n",
    "random.shuffle(hello_copy)\n",
    "print(hello_copy)"
   ]
  },
  {
   "cell_type": "code",
   "execution_count": null,
   "metadata": {},
   "outputs": [],
   "source": [
    "print(list1[0])\n",
    "print(list1[:2])\n",
    "print(list1[-4:-2])"
   ]
  },
  {
   "cell_type": "code",
   "execution_count": null,
   "metadata": {},
   "outputs": [],
   "source": [
    "new = list1 * 2\n",
    "print(new)"
   ]
  },
  {
   "cell_type": "code",
   "execution_count": null,
   "metadata": {},
   "outputs": [],
   "source": [
    "names1 = ['Amir', 'Bear', 'Charlton', 'Daman']\n",
    "names2 = names1\n",
    "names3 = names1[:]\n",
    "names2[0] = 'Alice'\n",
    "names3[1] = 'Bob'\n",
    "sum = 0\n",
    "names = (names1, names2, names3)\n",
    "# formed into a tuple \n",
    "for ls in names:\n",
    "    if ls[0] == 'Alice':\n",
    "        sum += 1\n",
    "    if ls[1] == 'Bob':\n",
    "        sum += 10\n",
    "print(sum)"
   ]
  },
  {
   "cell_type": "code",
   "execution_count": null,
   "metadata": {},
   "outputs": [],
   "source": [
    "list2 = [0.5 * x for x in range(0, 4)]\n",
    "print(list2)"
   ]
  },
  {
   "cell_type": "code",
   "execution_count": null,
   "metadata": {},
   "outputs": [],
   "source": [
    "list3 = []\n",
    "for x in range(0,4):\n",
    "    list3.append(x*0.5)\n",
    "print(list3)"
   ]
  },
  {
   "cell_type": "code",
   "execution_count": null,
   "metadata": {},
   "outputs": [],
   "source": [
    "list1 = [11,2,27]\n",
    "list2 = [11,3,23]\n",
    "# checks the first unequal member \n",
    "print(list1 < list2)"
   ]
  },
  {
   "cell_type": "code",
   "execution_count": null,
   "metadata": {},
   "outputs": [],
   "source": [
    "name = ['amir','shawn','Oestred']\n",
    "if 'AmIr'.lower() in name:\n",
    "    print(True)\n",
    "else:\n",
    "    print(False)"
   ]
  },
  {
   "cell_type": "code",
   "execution_count": null,
   "metadata": {},
   "outputs": [],
   "source": [
    "numbers = [1,2,3,4]\n",
    "numbers.append([5,6,7,8])\n",
    "print(len(numbers))"
   ]
  },
  {
   "cell_type": "code",
   "execution_count": null,
   "metadata": {},
   "outputs": [],
   "source": [
    "list1 = [1, 2, 3, 4]\n",
    "list2 = [5, 6, 7, 8]\n",
    "print(len(list1 + list2))\n",
    "print(list1+list2) # list concatenation "
   ]
  },
  {
   "cell_type": "code",
   "execution_count": null,
   "metadata": {},
   "outputs": [],
   "source": [
    "a = [1,2,3]\n",
    "b = a.append(4)\n",
    "print(a)\n",
    "print(b)"
   ]
  },
  {
   "cell_type": "code",
   "execution_count": null,
   "metadata": {},
   "outputs": [],
   "source": [
    "b = a.copy()\n",
    "c = a \n",
    "print(b is a)\n",
    "print(c is a)"
   ]
  },
  {
   "cell_type": "code",
   "execution_count": null,
   "metadata": {},
   "outputs": [],
   "source": [
    "a=[13,56,17] \n",
    "a.append([87]) # parameter takes a member\n",
    "a.extend([45,67]) # parameter takes a list\n",
    "print(a)\n",
    "\n",
    "# output = [13,56,17,[87],45,67]"
   ]
  },
  {
   "cell_type": "code",
   "execution_count": null,
   "metadata": {},
   "outputs": [],
   "source": [
    "a=list((45,))*4 \n",
    "print((45)*4) \n",
    "print(a)"
   ]
  },
  {
   "cell_type": "markdown",
   "metadata": {},
   "source": [
    "# List Comprehension"
   ]
  },
  {
   "cell_type": "code",
   "execution_count": null,
   "metadata": {},
   "outputs": [],
   "source": [
    "List = [1,2,3,4]\n",
    "new_list = []\n",
    "# new list should contain the members which are squares of List's members\n",
    "for each in List:\n",
    "    new_list.append(each**2)\n",
    "print(new_list)"
   ]
  },
  {
   "cell_type": "code",
   "execution_count": null,
   "metadata": {},
   "outputs": [],
   "source": [
    "lcomp = [i**2 for i in List]\n",
    "print(lcomp)"
   ]
  },
  {
   "cell_type": "code",
   "execution_count": null,
   "metadata": {},
   "outputs": [],
   "source": [
    "ranger = [x/5 for x in range(10)]\n",
    "print(ranger)"
   ]
  },
  {
   "cell_type": "code",
   "execution_count": null,
   "metadata": {},
   "outputs": [],
   "source": [
    "bestie = {\n",
    "    \"name\" : \"Midha\",\n",
    "    'age' : 20,\n",
    "    'university' : \"NED\",\n",
    "}\n",
    "besties = [v for v in bestie.values()]\n",
    "print(besties)"
   ]
  },
  {
   "cell_type": "markdown",
   "metadata": {},
   "source": [
    "             list_name = [item_to_be_inserted      iterator           conditions]"
   ]
  },
  {
   "cell_type": "code",
   "execution_count": null,
   "metadata": {},
   "outputs": [],
   "source": [
    "# Even number list\n",
    "\n",
    "even_number = [n for n in range(11) if n%2==0]\n",
    "print(even_number)"
   ]
  },
  {
   "cell_type": "code",
   "execution_count": null,
   "metadata": {},
   "outputs": [],
   "source": [
    "itera = list([45]*4)\n",
    "print(type(itera))\n",
    "print(itera)"
   ]
  },
  {
   "cell_type": "code",
   "execution_count": null,
   "metadata": {},
   "outputs": [],
   "source": [
    "stringer_broke = list(\"HASHAM\")\n",
    "stringer_broke_alternate = list((\"HASHAM\"))\n",
    "stringer = list((\"HASHAM\",))\n",
    "stringer_alternate = list([\"HASHAM\"])\n",
    "print(stringer_broke)\n",
    "print(stringer)\n",
    "print(stringer_alternate)\n",
    "\n",
    "number = list((45,))\n",
    "number_alternate = list([45])\n",
    "print(number)\n",
    "print(number_alternate)"
   ]
  },
  {
   "cell_type": "code",
   "execution_count": null,
   "metadata": {},
   "outputs": [],
   "source": [
    "lister = list((45,36)*4)\n",
    "print(lister)"
   ]
  },
  {
   "cell_type": "code",
   "execution_count": null,
   "metadata": {},
   "outputs": [],
   "source": [
    "bestie1 = \"MIDHA\"\n",
    "bestie2 = \"MIDHA\"\n",
    "\n",
    "# print(id(bestie1))\n",
    "# print(id(bestie2))\n",
    "\n",
    "print(bestie1 is bestie2) # as they are pointing to the same location"
   ]
  },
  {
   "cell_type": "markdown",
   "metadata": {},
   "source": [
    "- The is keyword is used to test if two variables refer to the same object.\n",
    "- The test returns True if the two objects are the same object.\n",
    "- The test returns False if they are not the same object, even if the two objects are 100% equal.\n",
    "- Use the == operator to test if two variables are equal."
   ]
  },
  {
   "cell_type": "code",
   "execution_count": null,
   "metadata": {},
   "outputs": [],
   "source": [
    "a = 7\n",
    "b = 2\n",
    "print(hex(id(a)))\n",
    "print(hex(id(b)))\n",
    "c = 1\n",
    "print(hex(id(c)))\n",
    "print(\"-------------------------\")\n",
    "a = 5\n",
    "print(a,hex(id(a)))\n",
    "print(c,hex(id(c)))\n",
    "print(hex(id(1)))"
   ]
  },
  {
   "cell_type": "code",
   "execution_count": null,
   "metadata": {},
   "outputs": [],
   "source": [
    "list1 = [1,2,3] \n",
    "list2 = list1\n",
    "list3 = list1.copy()\n",
    "list4 = [1,2,3]\n",
    "\n",
    "print(hex(id(list1)))\n",
    "print(hex(id(list2)))\n",
    "print(hex(id(list3)))\n",
    "print(hex(id(list4)))\n",
    "print(hex(id(list1[0])))"
   ]
  },
  {
   "cell_type": "code",
   "execution_count": null,
   "metadata": {},
   "outputs": [],
   "source": [
    "print(list1 is list4)\n",
    "print(list1[0] is list4[0])"
   ]
  },
  {
   "cell_type": "code",
   "execution_count": null,
   "metadata": {},
   "outputs": [],
   "source": [
    "string1 = \"MIDHA\" \n",
    "string2 = \"MIDHA\" \n",
    "print(string1 is string2)"
   ]
  },
  {
   "cell_type": "code",
   "execution_count": null,
   "metadata": {},
   "outputs": [],
   "source": [
    "t=list((32.00,))\n",
    "[round((x-32)*5/9) for x in t]"
   ]
  },
  {
   "cell_type": "code",
   "execution_count": null,
   "metadata": {},
   "outputs": [],
   "source": [
    "output = [j for i in range(2,8) for j in range(i*2, 50, i)]\n",
    "output.sort()\n",
    "# output = set(output)\n",
    "print(output)"
   ]
  },
  {
   "cell_type": "code",
   "execution_count": null,
   "metadata": {},
   "outputs": [],
   "source": [
    "for i in range(9):\n",
    "    print(i*\"*\")\n",
    "for j in range(9,0,-1):\n",
    "    print(j*\"*\")"
   ]
  },
  {
   "cell_type": "code",
   "execution_count": null,
   "metadata": {
    "scrolled": false
   },
   "outputs": [],
   "source": [
    "[print(i*\"*\") for i in range(9)]\n",
    "[print(j*\"*\") for j in range(9, 0, -1)]"
   ]
  },
  {
   "cell_type": "code",
   "execution_count": null,
   "metadata": {},
   "outputs": [],
   "source": [
    "class Human():\n",
    "    def __init__(this,name,age):\n",
    "        this.name = name\n",
    "        this.age = age\n",
    "        print(hex(id(name)))\n",
    "        print(hex(id(this.name)))\n",
    "        \n",
    "    def printer(this):\n",
    "        print(this.name+\" \"+str(this.age))\n",
    "\n",
    "name = \"Ali\"\n",
    "ali = Human(name,17)\n",
    "print(hex(id(name)))\n",
    "print(\"\")\n",
    "ahsan = Human(\"Ahsan\",22)\n",
    "print(\"\")\n",
    "aslam = Human(\"Aslam\",33)\n",
    "print(\"\")\n",
    "del(ali)\n",
    "hasham = Human(\"Ali\",17)\n",
    "# self is not a keyword"
   ]
  },
  {
   "cell_type": "code",
   "execution_count": null,
   "metadata": {},
   "outputs": [],
   "source": [
    "def foo():\n",
    "    try:\n",
    "        return 1\n",
    "    except Exception as e:\n",
    "        print(\"Exception\")\n",
    "    finally:\n",
    "        return 2\n",
    "k = foo()\n",
    "print(k)\n",
    "\n",
    "def fo():\n",
    "    try:\n",
    "        print(1)\n",
    "    finally:\n",
    "        print(2) \n",
    "fo()"
   ]
  },
  {
   "cell_type": "code",
   "execution_count": null,
   "metadata": {},
   "outputs": [],
   "source": [
    "class Vote():\n",
    "    def __init__(this,age):\n",
    "        if age < 18:\n",
    "            raise Errors(\"Your age is not suitable\")\n",
    "        this.age = age"
   ]
  },
  {
   "cell_type": "code",
   "execution_count": null,
   "metadata": {},
   "outputs": [],
   "source": [
    "try:\n",
    "    hasham = Vote(17)\n",
    "except Exception as e:\n",
    "    print(e)"
   ]
  },
  {
   "cell_type": "code",
   "execution_count": null,
   "metadata": {},
   "outputs": [],
   "source": [
    "class Errors(Exception):\n",
    "    pass"
   ]
  },
  {
   "cell_type": "code",
   "execution_count": null,
   "metadata": {},
   "outputs": [],
   "source": [
    "# hasham = Vote(16)"
   ]
  },
  {
   "cell_type": "raw",
   "metadata": {},
   "source": [
    "---------------------------------------------------------------------------\n",
    "Errors                                    Traceback (most recent call last)\n",
    "<ipython-input-52-d5b9f5c2b921> in <module>\n",
    "----> 1 hasham = Vote(16)\n",
    "\n",
    "<ipython-input-49-f90ff4e92fc0> in __init__(this, age)\n",
    "      2     def __init__(this,age):\n",
    "      3         if age < 18:\n",
    "----> 4             raise Errors(\"Your age is not suitable\")\n",
    "      5         this.age = age\n",
    "\n",
    "Errors: Your age is not suitable"
   ]
  },
  {
   "cell_type": "code",
   "execution_count": null,
   "metadata": {},
   "outputs": [],
   "source": [
    "def name(n):\n",
    "    for each in n:\n",
    "        if each == 'x':\n",
    "            raise Exception(\"X alphabet not allowed\")\n",
    "    return n"
   ]
  },
  {
   "cell_type": "code",
   "execution_count": null,
   "metadata": {},
   "outputs": [],
   "source": [
    "try:\n",
    "    print(name(\"Maaz\"))\n",
    "except Exception as e:\n",
    "    print(e)"
   ]
  },
  {
   "cell_type": "code",
   "execution_count": null,
   "metadata": {},
   "outputs": [],
   "source": [
    "print(\"id for 1 :\", id(2))\n",
    "x = 1\n",
    "y = 1\n",
    "print(\"id for x :\", id(x))\n",
    "print(\"id for y :\", id(y))\n",
    "list = [4, 2, 1, 3]\n",
    "print(\"id for l :\", id(list[2]))"
   ]
  },
  {
   "cell_type": "code",
   "execution_count": 2,
   "metadata": {},
   "outputs": [
    {
     "name": "stdout",
     "output_type": "stream",
     "text": [
      "I don't want to eat\n",
      "He said,\"Yeah I know this thing\"\n",
      "He said,\"Yeah,I don't know\"\n",
      "hello\thello\thello\thello\thello\t\n",
      "This is the number 7\n",
      "This is the sum of two numbers 10\n",
      "this is the number 7\n",
      "In the basket are apples and lemons\n",
      "In the room is midha\n",
      "John Son is 20 years old\n",
      "The x is : 7.8997 and the y is: 383897\n",
      "I study in Ned University\n",
      "['Hello', 'Nick']\n",
      "My name is Midx\n",
      "['I', 'am', 'Midha']\n",
      "['I ', 'study ', 'in ', 'Ned']\n",
      "['geeks, for, geeks, midx']\n",
      "['geeks', 'for', 'geeks', 'midx']\n",
      "['geeks', 'for, geeks, midx']\n",
      "['geeks', 'for', 'geeks', 'midx']\n",
      "['geeks', 'for', 'geeks', 'midx']\n"
     ]
    }
   ],
   "source": [
    "#strings\n",
    "print(\"I don't want to eat\")\n",
    "print('He said,\"Yeah I know this thing\"')\n",
    "print('He said,\"Yeah,I don\\'t know\"')\n",
    "print(\"hello\\t\"*5) #multiply string 5 times and prints 5 hello \n",
    "\n",
    "#String Manipulation:\n",
    "\n",
    "#String Concatenation\n",
    "x = 7 \n",
    "y = 3\n",
    "print(\"This is the number \" + str(x))\n",
    "print(\"This is the sum of two numbers \" + str(x+y))\n",
    "print(\"this is the number\",x) \n",
    "#Other way\n",
    "x = \"apples\"\n",
    "y = \"lemons\"\n",
    "print(\"In the basket are %s and %s\" %(x,y)) \n",
    "name = \"midha\"\n",
    "print(\"In the room is %s\" %name)\n",
    "#Another way\n",
    "\n",
    "fname = \"John\"\n",
    "lname = \"Son\"\n",
    "age = 20\n",
    "print(\"{} {} is {} years old\".format(fname,lname,age))\n",
    "\n",
    "#Similarly\n",
    "x = 7.89973\n",
    "y = 383897\n",
    "print(\"The x is : {0:.5} and the y is: {1:4}\".format(x,y))\n",
    "\n",
    "#using the join method \n",
    "print(\"\".join(['I',' study',' in', ' Ned',' University']))\n",
    "\n",
    "#String Split\n",
    "print(\"Hello:Nick\".split(\":\")) #it splits w.r.t to given colon(separator) and returns in a list \n",
    "print(\"My name is \" + \"Hello:Midx:World\".split(\":\")[1]) #here we want 1st index of list after splitting\n",
    "\n",
    "print(\"I am Midha\".split()) #splits at space\n",
    "print(\"I , study , in , Ned\".split(\", \")) #splits at ,\n",
    "\n",
    "#max split\n",
    "word = 'geeks, for, geeks, midx'\n",
    "print(word.split(', ',0))\n",
    "print(word.split(', ',4))\n",
    "print(word.split(', ',1))\n",
    "print(word.split(', ',5))\n",
    "print(word.split(', ',10))\n"
   ]
  },
  {
   "cell_type": "code",
   "execution_count": 3,
   "metadata": {},
   "outputs": [
    {
     "name": "stdout",
     "output_type": "stream",
     "text": [
      "5\n",
      "1\n",
      "True\n",
      "False\n",
      "5\n",
      "5\n",
      "10\n",
      "False\n",
      "(3+9j)\n",
      "0j\n"
     ]
    },
    {
     "data": {
      "text/plain": [
       "432"
      ]
     },
     "execution_count": 3,
     "metadata": {},
     "output_type": "execute_result"
    }
   ],
   "source": [
    "import math\n",
    "x = round(4.568) #if no round value is give  it will round to whole no. ie 5\n",
    "print(x)\n",
    "x = pow(4,2,3) #4**2%3\n",
    "print(x)\n",
    "y = all([1,2,3,4]) #all returns true if element is not zero\n",
    "print(y)\n",
    "y =all([0,1])\n",
    "print(y)\n",
    "c = abs(-5) #absolute value \n",
    "print(c)\n",
    "v = abs(5)\n",
    "print(v)\n",
    "#sum(v,c,y) <--- yeh error hai coz it takes in list argument \n",
    "print(sum([v,c,y]))\n",
    "we = min(max(False,-3,-4), 2,7)\n",
    "#max(0,-3,-4) so min(0,2,7) ans is 0 --False\n",
    "print(we)\n",
    "cv = complex(1+2+3j+6j)\n",
    "print(cv)\n",
    "vc = complex() #ya complex(0)\n",
    "print(vc) #0j \n",
    "def f(x, y, z): return x + y + z\n",
    "f(2, 30, 400)"
   ]
  },
  {
   "cell_type": "code",
   "execution_count": 4,
   "metadata": {},
   "outputs": [
    {
     "name": "stdout",
     "output_type": "stream",
     "text": [
      "There once was a movie star icon\n",
      "who preferred to sleep with the light on.\n",
      "They learned how to code\n",
      "a device that sure glowed\n",
      "and lit up the night using Python!\n",
      "\n",
      "I have 6 cats\n",
      "I have   6 cats\n",
      "I have 006 cats\n",
      "I have 6.000000 cats\n",
      "I have 6.00 cats\n",
      "152\n",
      "8\n",
      "hELLO WORLD\n",
      "6\n",
      "2\n",
      "Hello world\n",
      "Hello World\n",
      "Hi world\n",
      "               midha your avg score is: 679.0\n",
      "midha is 678.988006\n"
     ]
    }
   ],
   "source": [
    "print('''There once was a movie star icon\n",
    "who preferred to sleep with the light on.\n",
    "They learned how to code\n",
    "a device that sure glowed\n",
    "and lit up the night using Python!\n",
    "''')\n",
    "\n",
    "####\n",
    "print(\"I have %d cats\" % 6)\n",
    "print(\"I have %3d cats\" % 6) #3 spaces\n",
    "print(\"I have %03d cats\" % 6) #006\n",
    "print(\"I have %f cats\" % 6) #in float (after point 6 digits by default)\n",
    "print(\"I have %.2f cats\" % 6) \n",
    "\n",
    "####\n",
    "total = 5+9-10+89\\\n",
    "        + 39 + 20  #jab space kam pare to backslash laga kr new line par likh skty hn\n",
    "print(total)\n",
    "\n",
    "####\n",
    "#LOAN CALCULATOR\n",
    "# L = float(input(\"Enter the loan: \"))\n",
    "# i = float(input(\"Enter the interest rate: \"))/100\n",
    "# n = float(input(\"Enter the number of years for the loan: \"))\n",
    "# M = L(i(i+1)n) / ((1+i)n-1)\n",
    "# print(M)\n",
    "\n",
    "####\n",
    "_gain = 8\n",
    "print(_gain) #variable name can start with underscore , not with other characters and digits\n",
    "\n",
    "####\n",
    "# camelCasing or PascalCasing\n",
    "\n",
    "####\n",
    "message='Hello world' \n",
    "print(message.swapcase()) #to reverse captial with small and vice versa\n",
    "print(message.find('world')) \n",
    "print(message.count('o'))\n",
    "print(message.capitalize()) #first alphabet capital\n",
    "print(message.title()) #all the title words are capital\n",
    "print(message.replace('Hello','Hi'))\n",
    "\n",
    "####\n",
    "name=\"midha\"\n",
    "avg = 678.988006\n",
    "print(\"%20s your avg score is: %4.1f\" %(name,avg))\n",
    "\n",
    "print(\"{0} is {1}\".format(name,avg))"
   ]
  },
  {
   "cell_type": "code",
   "execution_count": 5,
   "metadata": {},
   "outputs": [
    {
     "name": "stdout",
     "output_type": "stream",
     "text": [
      "Midha\n",
      "Tahir\n",
      "{'Name': 'Midha', 'Fname': 'Khan', 'University': 'NED'}\n",
      "Name\n",
      "Fname\n",
      "University\n",
      "Name\n",
      "Fname\n",
      "University\n",
      "Midha\n",
      "Khan\n",
      "NED\n",
      "Name:Midha\n",
      "Fname:Khan\n",
      "University:NED\n",
      "Khan\n",
      "3\n",
      "{'Name': 'Midha', 'Fname': 'Khan', 'University': 'NED', 'Star': 'Taurus'}\n",
      "Taurus\n",
      "{'Name': 'Midha', 'Fname': 'Khan', 'University': 'NED'}\n",
      "{'Name': 'Midha', 'Fname': 'Khan'}\n",
      "{'Name': 'Midha', 'Fname': 'Tahir'}\n",
      "{'Name': 'Midha', 'Fname': 'Tahir'}\n"
     ]
    }
   ],
   "source": [
    "my_dict = {\n",
    "    \"Name\"  : \"Midha\",\n",
    "    \"Fname\" : \"Tahir\",\n",
    "    \"University\": \"NED\",\n",
    "}\n",
    "\n",
    "#Accessing dictionary \n",
    "print(my_dict[\"Name\"])\n",
    "print(my_dict.get(\"Fname\"))\n",
    "\n",
    "#Changing Values\n",
    "my_dict[\"Fname\"] = \"Khan\"\n",
    "print(my_dict)\n",
    "\n",
    "#Looping through a dictionary \n",
    "for x in my_dict:\n",
    "    print(x) \n",
    "\n",
    "for k in my_dict.keys(): #looping through keys\n",
    "    print(k)\n",
    "\n",
    "for v in my_dict.values(): #looping through values\n",
    "    print(v)\n",
    "\n",
    "for k,v in my_dict.items(): #looping through both keys and values\n",
    "    print(k + \":\" + v)\n",
    "\n",
    "#Check if key exists \n",
    "if \"Fname\" in my_dict:\n",
    "    print(my_dict[\"Fname\"])\n",
    "\n",
    "#Length of dictionary\n",
    "print(len(my_dict))\n",
    "\n",
    "#Adding Item\n",
    "my_dict[\"Star\"] = \"Taurus\"\n",
    "print(my_dict)\n",
    "\n",
    "#Remove Item\n",
    "z = my_dict.pop(\"Star\")\n",
    "print(z) #it pops the item of dictionary and returns value\n",
    "print(my_dict)\n",
    "del my_dict[\"University\"] #we can also delete whole dictionary del my_dict , my_dict.clear()\n",
    "print(my_dict)\n",
    "\n",
    "this_dict = my_dict #It will give reference , and changes made in my_dict will change this_dict and vice versa\n",
    "this_dict[\"Fname\"] = \"Tahir\"\n",
    "print(my_dict)\n",
    "\n",
    "that_dict = my_dict.copy()\n",
    "that_dict[\"Fname\"] = \"Khan\" #or we can use that_dict = dict(my_dict) -->> these both will not pass reference\n",
    "print(my_dict)"
   ]
  },
  {
   "cell_type": "code",
   "execution_count": null,
   "metadata": {},
   "outputs": [],
   "source": []
  }
 ],
 "metadata": {
  "kernelspec": {
   "display_name": "Python 3",
   "language": "python",
   "name": "python3"
  },
  "language_info": {
   "codemirror_mode": {
    "name": "ipython",
    "version": 3
   },
   "file_extension": ".py",
   "mimetype": "text/x-python",
   "name": "python",
   "nbconvert_exporter": "python",
   "pygments_lexer": "ipython3",
   "version": "3.7.3"
  }
 },
 "nbformat": 4,
 "nbformat_minor": 2
}
