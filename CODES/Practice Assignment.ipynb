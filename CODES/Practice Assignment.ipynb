{
 "cells": [
  {
   "cell_type": "code",
   "execution_count": 4,
   "metadata": {},
   "outputs": [],
   "source": [
    "# 1. Below are a set of scores that students have received in the past semester.\n",
    "# Write code to determine how many are 90 or above and assign that result to the value a_scores.\n",
    "scores = \"67 80 90 78 93 20 79 89 96 97 92 88 79 68 58 90 98 100 79 74 83 88 80 86 85 70 90 100\""
   ]
  },
  {
   "cell_type": "code",
   "execution_count": 12,
   "metadata": {},
   "outputs": [
    {
     "name": "stdout",
     "output_type": "stream",
     "text": [
      "10\n"
     ]
    }
   ],
   "source": [
    "a_scores = 0\n",
    "for each in scores:\n",
    "    if int(each)>=90:\n",
    "        a_scores+=1\n",
    "print(a_scores)"
   ]
  },
  {
   "cell_type": "code",
   "execution_count": 24,
   "metadata": {},
   "outputs": [],
   "source": [
    "# 2. Write code that uses the string stored in org and creates an acronym which is assigned to the variable acro.\n",
    "# Only the first letter of each word should be used, each letter in the acronym should be a capital letter, and there should be nothing to separate the letters of the acronym.\n",
    "# Words that should not be included in the acronym are stored in the list stopwords. \n",
    "# For example, if org was assigned the string “hello to world” then the resulting acronym should be “HW”.\n",
    "\n",
    "stopwords = ['to', 'a', 'for', 'by', 'an', 'am', 'the', 'so', 'it', 'and', \"The\"]\n",
    "org = \"The organization for health, safety, and education\""
   ]
  },
  {
   "cell_type": "code",
   "execution_count": 25,
   "metadata": {},
   "outputs": [
    {
     "name": "stdout",
     "output_type": "stream",
     "text": [
      "OHSE\n"
     ]
    }
   ],
   "source": [
    "acro = \"\"\n",
    "org = org.split(\" \")\n",
    "for each in org:\n",
    "    if each not in stopwords:\n",
    "        acro += each[0].upper()\n",
    "print(acro)"
   ]
  },
  {
   "cell_type": "code",
   "execution_count": 6,
   "metadata": {},
   "outputs": [],
   "source": [
    "# 3. Write code that uses the string stored in sent and creates an acronym which is assigned to the variable acro.\n",
    "# The first two letters of each word should be used, each letter in the acronym should be a capital letter, and each element of the acronym should be separated by a “. ” (dot and space).\n",
    "# Words that should not be included in the acronym are stored in the list stopwords.\n",
    "# For example, if sent was assigned the string “height and ewok wonder” then the resulting acronym should be “HE. EW. WO”.\n",
    "\n",
    "stopwords = ['to', 'a', 'for', 'by', 'an', 'am', 'the', 'so', 'it', 'and', 'The']\n",
    "sent = \"The water earth and air are vital\""
   ]
  },
  {
   "cell_type": "code",
   "execution_count": 7,
   "metadata": {},
   "outputs": [
    {
     "name": "stdout",
     "output_type": "stream",
     "text": [
      "WA. EA. AI. AR. VI. \n"
     ]
    }
   ],
   "source": [
    "acro = \"\"\n",
    "sent = sent.split(\" \")\n",
    "for each in sent:\n",
    "    if each not in stopwords:\n",
    "        acro += each[:2].upper()+\". \"\n",
    "\n",
    "print(acro)"
   ]
  },
  {
   "cell_type": "code",
   "execution_count": 1,
   "metadata": {},
   "outputs": [],
   "source": [
    "# 4. A palindrome is a phrase that, if reversed, would read the exact same.\n",
    "# Write code that checks if p_phrase is a palindrome by reversing it and then checking if the reversed version is equal to the original.\n",
    "# Assign the reversed version of p_phrase to the variable r_phrase so that we can check your work.\n",
    "\n",
    "p_phrase = \"was it a car or a cat I saw\""
   ]
  },
  {
   "cell_type": "code",
   "execution_count": 2,
   "metadata": {},
   "outputs": [
    {
     "name": "stdout",
     "output_type": "stream",
     "text": [
      "was I tac a ro rac a ti saw\n",
      "p_phrase is not a palindrome\n"
     ]
    }
   ],
   "source": [
    "r_phrase = p_phrase[::-1]\n",
    "print(r_phrase)\n",
    "if r_phrase == p_phrase:\n",
    "    print(\"p_phrase is a palindrome\")\n",
    "else:\n",
    "    print(\"p_phrase is not a palindrome\")"
   ]
  },
  {
   "cell_type": "code",
   "execution_count": 1,
   "metadata": {},
   "outputs": [],
   "source": [
    "# 5. Provided is a list of data about a store’s inventory where each item in the list represents the name of an item, how much is in stock, and how much it costs.\n",
    "# Print out each item in the list with the same formatting, using the .format method (not string concatenation).\n",
    "# For example, the first print statment should read The store has 12 shoes, each for 29.99 USD.\n",
    "\n",
    "inventory = [\"shoes, 12, 29.99\", \"shirts, 20, 9.99\", \"sweatpants, 25, 15.00\", \"scarves, 13, 7.75\"]"
   ]
  },
  {
   "cell_type": "code",
   "execution_count": 5,
   "metadata": {},
   "outputs": [
    {
     "name": "stdout",
     "output_type": "stream",
     "text": [
      "The store has 12 shoes, each for 29.99 USD\n",
      "The store has 20 shirts, each for 9.99 USD\n",
      "The store has 25 sweatpants, each for 15.00 USD\n",
      "The store has 13 scarves, each for 7.75 USD\n"
     ]
    }
   ],
   "source": [
    "for each in inventory:\n",
    "    each = each.split(\",\")\n",
    "    print(\"The store has{1} {0}, each for{2} USD\".format(each[0],each[1],each[2]))"
   ]
  },
  {
   "cell_type": "code",
   "execution_count": 7,
   "metadata": {},
   "outputs": [],
   "source": [
    "# 6. For each string in wrds, add ‘ed’ to the end of the word (to make the word past tense).\n",
    "# Save these past tense words to a list called past_wrds.\n",
    "\n",
    "wrds = [\"end\", 'work', \"play\", \"start\", \"walk\", \"look\", \"open\", \"rain\", \"learn\", \"clean\"]"
   ]
  },
  {
   "cell_type": "code",
   "execution_count": 8,
   "metadata": {},
   "outputs": [
    {
     "name": "stdout",
     "output_type": "stream",
     "text": [
      "['ended', 'worked', 'played', 'started', 'walked', 'looked', 'opened', 'rained', 'learned', 'cleaned']\n"
     ]
    }
   ],
   "source": [
    "for x in range(len(wrds)):\n",
    "    wrds[x] += \"ed\"\n",
    "print(wrds)"
   ]
  },
  {
   "cell_type": "code",
   "execution_count": null,
   "metadata": {},
   "outputs": [],
   "source": [
    "# 7. Write a function, test, that takes in three parameters: a required integer,\n",
    "# an optional boolean whose default value is True, and an optional dictionar\n",
    "y,\n",
    "# called dict1, whose default value is {2:3, 4:5, 6:8}. If the boolean parameter is True,\n",
    "# the function should test to see if the integer is a key in the dictionary.\n",
    "# The value of that key should then be returned. If the boolean parameter is False, return the boolean value “False”."
   ]
  },
  {
   "cell_type": "code",
   "execution_count": 15,
   "metadata": {},
   "outputs": [],
   "source": [
    "def test(integer,boolean=True,dict1={2:3,4:5,6:8,}):\n",
    "    if boolean:\n",
    "        if integer in dict1.keys():\n",
    "            return dict1[integer]\n",
    "    else:\n",
    "        return False"
   ]
  },
  {
   "cell_type": "code",
   "execution_count": 16,
   "metadata": {},
   "outputs": [
    {
     "name": "stdout",
     "output_type": "stream",
     "text": [
      "None\n"
     ]
    }
   ],
   "source": [
    "print(test(9))"
   ]
  },
  {
   "cell_type": "code",
   "execution_count": null,
   "metadata": {},
   "outputs": [],
   "source": [
    "# 8. Write a function called checkingIfIn that takes three parameters.\n",
    "# The first is a required parameter, which should be a string.\n",
    "# The second is an optional parameter called direction with a default value of True.\n",
    "# The third is an optional parameter called d that has a default value of\n",
    "# {'apple': 2, 'pear': 1, 'fruit': 19, 'orange': 5, 'banana': 3, 'grapes': 2, 'watermelon': 7}.\n",
    "# Write the function checkingIfIn so that when the second parameter is True,\n",
    "# it checks to see if the first parameter is a key in the third parameter;\n",
    "# if it is, return True, otherwise return False.\n",
    "\n",
    "# But if the second paramter is False, then the function should check to see if the first parameter is not a key of the third.'\n",
    "# If it’s not, the function should return True in this case, and if it is, it should return False."
   ]
  },
  {
   "cell_type": "code",
   "execution_count": 1,
   "metadata": {},
   "outputs": [],
   "source": [
    "def checkingIfIn(string, direction = True, d = {'apple': 2,'pear': 1,\n",
    "                                                'fruit': 19,'orange': 5,\n",
    "                                                'banana': 3, 'grapes': 2, \n",
    "                                                'watermelon': 7}):\n",
    "    if direction:\n",
    "        if string in d.keys():\n",
    "            return True\n",
    "        else:\n",
    "            return False\n",
    "    else:\n",
    "        if string not in d.keys():\n",
    "            return True\n",
    "        else:\n",
    "            return False"
   ]
  },
  {
   "cell_type": "code",
   "execution_count": 4,
   "metadata": {},
   "outputs": [
    {
     "name": "stdout",
     "output_type": "stream",
     "text": [
      "True\n"
     ]
    }
   ],
   "source": [
    "print(checkingIfIn('hasham', False))"
   ]
  },
  {
   "cell_type": "code",
   "execution_count": 7,
   "metadata": {},
   "outputs": [],
   "source": [
    "# 9. The textfile, travel_plans.txt, contains the summer travel plans for someone with some commentary.\n",
    "# Find the total number of characters in the file and save to the variable num."
   ]
  },
  {
   "cell_type": "code",
   "execution_count": null,
   "metadata": {},
   "outputs": [],
   "source": [
    "length = 0\n",
    "with open (travel_plans.txt, r) as f:\n",
    "    data = f.read()\n",
    "for each in data:\n",
    "    if each != \" \":\n",
    "        length +=1\n",
    "print(\"No of characters : \",length)"
   ]
  },
  {
   "cell_type": "code",
   "execution_count": 9,
   "metadata": {},
   "outputs": [],
   "source": [
    "#10. Write code that will count the number of vowels in the sentence s and assign the result to the variable num_vowels.\n",
    "# For this problem, vowels are only a, e, i, o, and u. Hint: use the in operator with vowels.\n",
    "\n",
    "s = \"singing in the rain and playing in the rain are two entirely different situations but both can be fun\"\n",
    "vowels = ['a','e','i','o','u']\n",
    "\n",
    "# Write your code here.(Using list comprehension)\n"
   ]
  },
  {
   "cell_type": "code",
   "execution_count": 10,
   "metadata": {},
   "outputs": [
    {
     "name": "stdout",
     "output_type": "stream",
     "text": [
      "No of vowels 32\n"
     ]
    }
   ],
   "source": [
    "num_vowels = 0\n",
    "for each in s:\n",
    "    if each in vowels:\n",
    "        num_vowels +=1\n",
    "print(\"No of vowels\",num_vowels)"
   ]
  },
  {
   "cell_type": "code",
   "execution_count": 17,
   "metadata": {},
   "outputs": [
    {
     "name": "stdout",
     "output_type": "stream",
     "text": [
      "32\n"
     ]
    }
   ],
   "source": [
    "num_vowels = 0\n",
    "\n",
    "def checker(each):\n",
    "    global s,vowels,num_vowels\n",
    "    if each in vowels:\n",
    "        num_vowels+=1\n",
    "        return True\n",
    "    \n",
    "[num_vowels for each in s if checker(each)]\n",
    "print(num_vowels)"
   ]
  },
  {
   "cell_type": "code",
   "execution_count": 10,
   "metadata": {},
   "outputs": [],
   "source": [
    "#11. rainfall_mi is a string that contains the average number of inches of rainfall in Michigan for every month (in inches) with every month separated by a comma.\n",
    "# Write code to compute the number of months that have more than 3 inches of rainfall.\n",
    "# Store the result in the variable num_rainy_months. In other words, count the number of items with values > 3.0.\n",
    "# Hard-coded answers will receive no credit.\n"
   ]
  },
  {
   "cell_type": "code",
   "execution_count": null,
   "metadata": {},
   "outputs": [],
   "source": []
  },
  {
   "cell_type": "code",
   "execution_count": 11,
   "metadata": {},
   "outputs": [],
   "source": [
    "#12. Write code that uses iteration to print out the length of each element of the list stored in str_list.\n",
    "\n",
    "str_list = [\"hello\", \"\", \"goodbye\", \"wonderful\", \"I love Python\"]"
   ]
  },
  {
   "cell_type": "code",
   "execution_count": 13,
   "metadata": {},
   "outputs": [
    {
     "name": "stdout",
     "output_type": "stream",
     "text": [
      "String : hello ------Length : 5\n",
      "String :  ------Length : 0\n",
      "String : goodbye ------Length : 7\n",
      "String : wonderful ------Length : 9\n",
      "String : I love Python ------Length : 13\n"
     ]
    }
   ],
   "source": [
    "for each in str_list:\n",
    "    print(\"String :\", each, \"------Length :\",len(each))"
   ]
  },
  {
   "cell_type": "code",
   "execution_count": 14,
   "metadata": {},
   "outputs": [],
   "source": [
    "#13. Write one for loop to print out each element of the list several_things.\n",
    "# Then, write another for loop to print out the TYPE of each element of the list several_things.\n",
    "# To complete this problem you should have written two different for loops,\n",
    "# each of which iterates over the list several_things, but each of those 2 for loops should have a different result.\n",
    "\n",
    "several_things = [\"hello\", 2, 4, 6.0, 7.5, 234352354, \"the end\", \"\", 99]"
   ]
  },
  {
   "cell_type": "code",
   "execution_count": 15,
   "metadata": {},
   "outputs": [
    {
     "name": "stdout",
     "output_type": "stream",
     "text": [
      "hello\n",
      "2\n",
      "4\n",
      "6.0\n",
      "7.5\n",
      "234352354\n",
      "the end\n",
      "\n",
      "99\n",
      "___________________\n",
      "<class 'str'>\n",
      "<class 'int'>\n",
      "<class 'int'>\n",
      "<class 'float'>\n",
      "<class 'float'>\n",
      "<class 'int'>\n",
      "<class 'str'>\n",
      "<class 'str'>\n",
      "<class 'int'>\n"
     ]
    }
   ],
   "source": [
    "for each in several_things:\n",
    "    print(each)\n",
    "print(\"___________________\")\n",
    "for each in several_things:\n",
    "    print(type(each))"
   ]
  },
  {
   "cell_type": "code",
   "execution_count": 16,
   "metadata": {},
   "outputs": [],
   "source": [
    "#14. Given below is a list of lists of athletes.\n",
    "# Create a list, t, that saves only the athlete’s name if it contains the letter “t”.\n",
    "# If it does not contain the letter “t”, save the athlete name into list other.\n",
    "\n",
    "athletes = [\n",
    "    ['Phelps', 'Lochte', 'Schooling', 'Ledecky', 'Franklin'], \n",
    "    ['Felix', 'Bolt', 'Gardner', 'Eaton'], \n",
    "    ['Biles', 'Douglas', 'Hamm', 'Raisman', 'Mikulak', 'Dalton']\n",
    "]"
   ]
  },
  {
   "cell_type": "code",
   "execution_count": 18,
   "metadata": {},
   "outputs": [
    {
     "name": "stdout",
     "output_type": "stream",
     "text": [
      "t ['Lochte', 'Bolt', 'Eaton', 'Dalton']\n",
      "Other ['Phelps', 'Schooling', 'Ledecky', 'Franklin', 'Felix', 'Gardner', 'Biles', 'Douglas', 'Hamm', 'Raisman', 'Mikulak']\n"
     ]
    }
   ],
   "source": [
    "t = []\n",
    "other = []\n",
    "for each in athletes:\n",
    "    for every in each:\n",
    "        if 't' in every:\n",
    "            t.append(every)\n",
    "        else:\n",
    "            other.append(every)\n",
    "print(\"t\", t)\n",
    "print(\"Other\", other)"
   ]
  },
  {
   "cell_type": "code",
   "execution_count": 1,
   "metadata": {},
   "outputs": [],
   "source": [
    "#15. Below, we have provided a list of tuples that contain students names and their final grades in PYTHON 101.\n",
    "# Using list comprehension, create a new list passed that contains the names of students who passed the class\n",
    "# (had a final grade of 70 or greater).\n",
    "\n",
    "students = [('Tommy', 95), ('Linda', 63), ('Carl', 70), ('Bob', 100), ('Raymond', 50), ('Sue', 75)]"
   ]
  },
  {
   "cell_type": "code",
   "execution_count": 2,
   "metadata": {},
   "outputs": [
    {
     "name": "stdout",
     "output_type": "stream",
     "text": [
      "['Tommy', 'Carl', 'Bob', 'Sue']\n"
     ]
    }
   ],
   "source": [
    "passed = [each[0] for each in students if each[1]>=70]\n",
    "print(passed)"
   ]
  },
  {
   "cell_type": "code",
   "execution_count": null,
   "metadata": {},
   "outputs": [],
   "source": []
  }
 ],
 "metadata": {
  "kernelspec": {
   "display_name": "Python 3",
   "language": "python",
   "name": "python3"
  },
  "language_info": {
   "codemirror_mode": {
    "name": "ipython",
    "version": 3
   },
   "file_extension": ".py",
   "mimetype": "text/x-python",
   "name": "python",
   "nbconvert_exporter": "python",
   "pygments_lexer": "ipython3",
   "version": "3.7.3"
  }
 },
 "nbformat": 4,
 "nbformat_minor": 2
}
