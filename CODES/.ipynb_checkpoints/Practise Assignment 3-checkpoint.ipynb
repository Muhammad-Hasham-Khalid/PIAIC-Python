{
 "cells": [
  {
   "cell_type": "markdown",
   "metadata": {},
   "source": [
    "# Q1:"
   ]
  },
  {
   "cell_type": "markdown",
   "metadata": {},
   "source": [
    "Think of at least three kinds of your favorite pizza. Store these pizza names in a list, and then use a for loop to print the name of each pizza."
   ]
  },
  {
   "cell_type": "code",
   "execution_count": 2,
   "metadata": {},
   "outputs": [],
   "source": [
    "pizzas = [\"Afghani Tikka\",\"BBQ Buzz\",\"Chicken Supreme\"]"
   ]
  },
  {
   "cell_type": "code",
   "execution_count": 3,
   "metadata": {},
   "outputs": [
    {
     "name": "stdout",
     "output_type": "stream",
     "text": [
      "Afghani Tikka\n",
      "BBQ Buzz\n",
      "Chicken Supreme\n"
     ]
    }
   ],
   "source": [
    "for pizza in pizzas:\n",
    "    print(pizza)"
   ]
  },
  {
   "cell_type": "code",
   "execution_count": null,
   "metadata": {},
   "outputs": [],
   "source": []
  },
  {
   "cell_type": "markdown",
   "metadata": {},
   "source": [
    "# Q2"
   ]
  },
  {
   "cell_type": "markdown",
   "metadata": {},
   "source": [
    "Start with your last question , Modify your for loop to print a sentence using the name of the pizza\n",
    "instead of printing just the name of the pizza. For each pizza you should\n",
    "have one line of output containing a simple statement like I like pepperoni\n",
    "pizza."
   ]
  },
  {
   "cell_type": "code",
   "execution_count": 4,
   "metadata": {},
   "outputs": [
    {
     "name": "stdout",
     "output_type": "stream",
     "text": [
      "I would love to eat Afghani Tikka\n",
      "I would love to eat BBQ Buzz\n",
      "I would love to eat Chicken Supreme\n"
     ]
    }
   ],
   "source": [
    "for pizza in pizzas:\n",
    "    print(\"I would love to eat \"+pizza)"
   ]
  },
  {
   "cell_type": "code",
   "execution_count": null,
   "metadata": {},
   "outputs": [],
   "source": []
  },
  {
   "cell_type": "code",
   "execution_count": null,
   "metadata": {},
   "outputs": [],
   "source": []
  },
  {
   "cell_type": "markdown",
   "metadata": {},
   "source": [
    "# Q3:"
   ]
  },
  {
   "cell_type": "markdown",
   "metadata": {},
   "source": [
    "Use a for loop to print the numbers from 1 to 20,\n",
    "inclusive."
   ]
  },
  {
   "cell_type": "code",
   "execution_count": 5,
   "metadata": {},
   "outputs": [
    {
     "name": "stdout",
     "output_type": "stream",
     "text": [
      "1\n",
      "2\n",
      "3\n",
      "4\n",
      "5\n",
      "6\n",
      "7\n",
      "8\n",
      "9\n",
      "10\n",
      "11\n",
      "12\n",
      "13\n",
      "14\n",
      "15\n",
      "16\n",
      "17\n",
      "18\n",
      "19\n",
      "20\n"
     ]
    }
   ],
   "source": [
    "for x in range(1,21):\n",
    "    print (x)"
   ]
  },
  {
   "cell_type": "code",
   "execution_count": null,
   "metadata": {},
   "outputs": [],
   "source": []
  },
  {
   "cell_type": "code",
   "execution_count": null,
   "metadata": {},
   "outputs": [],
   "source": []
  },
  {
   "cell_type": "markdown",
   "metadata": {},
   "source": [
    "# Q4:"
   ]
  },
  {
   "cell_type": "markdown",
   "metadata": {},
   "source": [
    "Use the third argument of the range() function to make a list\n",
    "of the odd numbers from 1 to 20. Use a for loop to print each number."
   ]
  },
  {
   "cell_type": "code",
   "execution_count": 7,
   "metadata": {},
   "outputs": [
    {
     "name": "stdout",
     "output_type": "stream",
     "text": [
      "1\n",
      "3\n",
      "5\n",
      "7\n",
      "9\n",
      "11\n",
      "13\n",
      "15\n",
      "17\n",
      "19\n"
     ]
    }
   ],
   "source": [
    "for x in range(1,21,2):\n",
    "    print(x)"
   ]
  },
  {
   "cell_type": "code",
   "execution_count": null,
   "metadata": {},
   "outputs": [],
   "source": []
  },
  {
   "cell_type": "code",
   "execution_count": null,
   "metadata": {},
   "outputs": [],
   "source": []
  },
  {
   "cell_type": "markdown",
   "metadata": {},
   "source": [
    "# Q5:"
   ]
  },
  {
   "cell_type": "markdown",
   "metadata": {},
   "source": [
    "Make a list of the multiples of 3 from 3 to 30. Use a for loop to\n",
    "print the numbers in your list."
   ]
  },
  {
   "cell_type": "code",
   "execution_count": 8,
   "metadata": {},
   "outputs": [],
   "source": [
    "table_3 = [3,6,9,12,15,18,21,24,27,30]"
   ]
  },
  {
   "cell_type": "code",
   "execution_count": 10,
   "metadata": {},
   "outputs": [
    {
     "name": "stdout",
     "output_type": "stream",
     "text": [
      "3\n",
      "6\n",
      "9\n",
      "12\n",
      "15\n",
      "18\n",
      "21\n",
      "24\n",
      "27\n",
      "30\n"
     ]
    }
   ],
   "source": [
    "for table in table_3:\n",
    "    print(table)"
   ]
  },
  {
   "cell_type": "code",
   "execution_count": null,
   "metadata": {},
   "outputs": [],
   "source": []
  },
  {
   "cell_type": "code",
   "execution_count": null,
   "metadata": {},
   "outputs": [],
   "source": []
  },
  {
   "cell_type": "markdown",
   "metadata": {},
   "source": [
    "# Q6:"
   ]
  },
  {
   "cell_type": "markdown",
   "metadata": {},
   "source": [
    "A number raised to the third power is called a cube. For example,\n",
    "the cube of 2 is written as 2**3 in Python. Make a list of the first 10 cubes (that\n",
    "is, the cube of each integer from 1 through 10), and use a for loop to print out\n",
    "the value of each cube"
   ]
  },
  {
   "cell_type": "code",
   "execution_count": 12,
   "metadata": {},
   "outputs": [
    {
     "name": "stdout",
     "output_type": "stream",
     "text": [
      "cube of 1 : 1\n",
      "cube of 2 : 8\n",
      "cube of 3 : 27\n",
      "cube of 4 : 64\n",
      "cube of 5 : 125\n",
      "cube of 6 : 216\n",
      "cube of 7 : 343\n",
      "cube of 8 : 512\n",
      "cube of 9 : 729\n",
      "cube of 10 : 1000\n"
     ]
    }
   ],
   "source": [
    "for x in range(1,11):\n",
    "    print(f\"cube of {x} : {x**3}\")"
   ]
  },
  {
   "cell_type": "code",
   "execution_count": null,
   "metadata": {},
   "outputs": [],
   "source": []
  },
  {
   "cell_type": "code",
   "execution_count": null,
   "metadata": {},
   "outputs": [],
   "source": []
  },
  {
   "cell_type": "code",
   "execution_count": null,
   "metadata": {},
   "outputs": [],
   "source": []
  },
  {
   "cell_type": "markdown",
   "metadata": {},
   "source": [
    "# Q7:"
   ]
  },
  {
   "cell_type": "markdown",
   "metadata": {},
   "source": [
    "##### Make a python program that conatains your nine favourite dishes in a list called foods.\n",
    "\n",
    "##### Print the message, The first three items in the list are:. \n",
    "##### Then use a slice to print the first three items from that program’s list.\n",
    "\n",
    "##### Print the message, Three items from the middle of the list are:\n",
    "##### Use a slice to print three items from the middle of the list.\n",
    "\n",
    "##### Print the message, The last three items in the list are:\n",
    "##### Use a slice to print the last three items in the list."
   ]
  },
  {
   "cell_type": "code",
   "execution_count": 20,
   "metadata": {},
   "outputs": [],
   "source": [
    "foods = [\"Biryani\",\"Tikka\",\"Zinger\",\"Pizza\",\"Rolls\",\"Pulao\",\"Karhai\",\"Kabab\",\"Chargha\"]"
   ]
  },
  {
   "cell_type": "code",
   "execution_count": 21,
   "metadata": {},
   "outputs": [
    {
     "name": "stdout",
     "output_type": "stream",
     "text": [
      "The first three items in the list are : ['Biryani', 'Tikka', 'Zinger']\n"
     ]
    }
   ],
   "source": [
    "print(f\"The first three items in the list are : {foods[:3]}\")"
   ]
  },
  {
   "cell_type": "code",
   "execution_count": 22,
   "metadata": {},
   "outputs": [
    {
     "name": "stdout",
     "output_type": "stream",
     "text": [
      "The middle three items in the list are : ['Pizza', 'Rolls', 'Pulao']\n"
     ]
    }
   ],
   "source": [
    "print(f\"The middle three items in the list are : {foods[3:6]}\")"
   ]
  },
  {
   "cell_type": "code",
   "execution_count": 23,
   "metadata": {},
   "outputs": [
    {
     "name": "stdout",
     "output_type": "stream",
     "text": [
      "The last three items in the list are : ['Karhai', 'Kabab', 'Chargha']\n"
     ]
    }
   ],
   "source": [
    "print(f\"The last three items in the list are : {foods[6:]}\")"
   ]
  },
  {
   "cell_type": "code",
   "execution_count": null,
   "metadata": {},
   "outputs": [],
   "source": []
  },
  {
   "cell_type": "code",
   "execution_count": null,
   "metadata": {},
   "outputs": [],
   "source": []
  },
  {
   "cell_type": "code",
   "execution_count": null,
   "metadata": {},
   "outputs": [],
   "source": []
  },
  {
   "cell_type": "markdown",
   "metadata": {},
   "source": [
    "# Q8:"
   ]
  },
  {
   "cell_type": "markdown",
   "metadata": {},
   "source": [
    "## Start with your program from your last Question8.\n",
    "##### Make a copy of the list of foods, and call it friend_foods.\n",
    "##### Then, do the following:\n",
    "#####    Add a new dish to the original list.\n",
    "#####    Add a different dish to the list friend_foodss.\n",
    "#####    Prove that you have two separate lists. \n",
    "##### Print the message, My favorite pizzas are: and then use a for loop to print the first list. \n",
    "##### Print the message,\n",
    "##### My friend’s favorite foods are:, and then use a for loop to print the second list.\n",
    "    \n",
    "#### NOTE: Make sure each new dish is stored in the appropriate list."
   ]
  },
  {
   "cell_type": "code",
   "execution_count": 24,
   "metadata": {},
   "outputs": [],
   "source": [
    "friend_foods = foods.copy()"
   ]
  },
  {
   "cell_type": "code",
   "execution_count": 25,
   "metadata": {},
   "outputs": [],
   "source": [
    "foods.append(\"sajji\")"
   ]
  },
  {
   "cell_type": "code",
   "execution_count": 26,
   "metadata": {},
   "outputs": [],
   "source": [
    "friend_foods.append(\"Chinese Rice\")"
   ]
  },
  {
   "cell_type": "code",
   "execution_count": 27,
   "metadata": {},
   "outputs": [
    {
     "name": "stdout",
     "output_type": "stream",
     "text": [
      "['Biryani', 'Tikka', 'Zinger', 'Pizza', 'Rolls', 'Pulao', 'Karhai', 'Kabab', 'Chargha', 'sajji']\n"
     ]
    }
   ],
   "source": [
    "print(foods)"
   ]
  },
  {
   "cell_type": "code",
   "execution_count": 28,
   "metadata": {},
   "outputs": [
    {
     "name": "stdout",
     "output_type": "stream",
     "text": [
      "['Biryani', 'Tikka', 'Zinger', 'Pizza', 'Rolls', 'Pulao', 'Karhai', 'Kabab', 'Chargha', 'Chinese Rice']\n"
     ]
    }
   ],
   "source": [
    "print(friend_foods)"
   ]
  },
  {
   "cell_type": "code",
   "execution_count": null,
   "metadata": {},
   "outputs": [],
   "source": [
    " "
   ]
  },
  {
   "cell_type": "code",
   "execution_count": null,
   "metadata": {},
   "outputs": [],
   "source": []
  },
  {
   "cell_type": "markdown",
   "metadata": {},
   "source": [
    "# Q9:"
   ]
  },
  {
   "cell_type": "markdown",
   "metadata": {},
   "source": [
    "Take a user input from console line.Store it in a variable called Alien_color.\n",
    "\n",
    "If the alien’s color is red, print a statement that the player just earned 5 points for shooting the alien.\n",
    "\n",
    "If the alien’s color isn’t green, print a statement that the player just earned 10 points.\n",
    "\n",
    "If the alien's color isn't red or green , print a statment :, Alien is no more....."
   ]
  },
  {
   "cell_type": "code",
   "execution_count": 30,
   "metadata": {},
   "outputs": [
    {
     "name": "stdin",
     "output_type": "stream",
     "text": [
      "Enter color :  blue\n"
     ]
    },
    {
     "name": "stdout",
     "output_type": "stream",
     "text": [
      "the player just earned 10 points.\n"
     ]
    }
   ],
   "source": [
    "Alien_color = input(\"Enter color : \")\n",
    "if Alien_color.lower()==\"red\":\n",
    "    print(\"the player just earned 5 points for shooting the alien\")\n",
    "if Alien_color.lower()!=\"green\":\n",
    "    print(\"the player just earned 10 points.\")\n",
    "elif Alien_color.lower()!=\"red\" or Alien_color.lower()!=\"green\":\n",
    "    print(\"Alien is no more\")"
   ]
  },
  {
   "cell_type": "code",
   "execution_count": null,
   "metadata": {},
   "outputs": [],
   "source": []
  },
  {
   "cell_type": "code",
   "execution_count": null,
   "metadata": {},
   "outputs": [],
   "source": []
  },
  {
   "cell_type": "code",
   "execution_count": null,
   "metadata": {},
   "outputs": [],
   "source": []
  },
  {
   "cell_type": "markdown",
   "metadata": {},
   "source": [
    "# Q10:"
   ]
  },
  {
   "cell_type": "markdown",
   "metadata": {},
   "source": [
    "Write an if-elif-else chain that determines a person’s\n",
    "stage of life. Set a value for the variable age, and then:\n",
    "    \n",
    "•\t If the person is less than 2 years old, print a message that the person is a baby.\n",
    "\n",
    "•\t If the person is at least 2 years old but less than 4, print a message that the person is a toddler.\n",
    "\n",
    "•\t If the person is at least 4 years old but less than 13, print a message that the person is a kid.\n",
    "\n",
    "•\t If the person is at least 13 years old but less than 20, print a message that the person is a teenager.\n",
    "\n",
    "•\t If the person is at least 20 years old but less than 65, print a message that the person is an adult.\n",
    "\n",
    "•\t If the person is age 65 or older, print a message that the person is an elder."
   ]
  },
  {
   "cell_type": "code",
   "execution_count": 33,
   "metadata": {},
   "outputs": [
    {
     "name": "stdin",
     "output_type": "stream",
     "text": [
      "Enter your age :  15\n"
     ]
    },
    {
     "name": "stdout",
     "output_type": "stream",
     "text": [
      "the person is a teenager\n"
     ]
    }
   ],
   "source": [
    "age = int(input(\"Enter your age : \"))\n",
    "if age<2:\n",
    "    print(\"the person is a baby.\")\n",
    "elif age <4:\n",
    "    print(\"the person is a toddler\")\n",
    "elif age <13:\n",
    "    print(\"the person is a kid\")\n",
    "elif age <20:\n",
    "    print(\"the person is a teenager\")\n",
    "elif age <65:\n",
    "    print(\"the person is a adult\")\n",
    "else:\n",
    "    print(\"the person is an elder\")"
   ]
  },
  {
   "cell_type": "code",
   "execution_count": null,
   "metadata": {},
   "outputs": [],
   "source": []
  },
  {
   "cell_type": "code",
   "execution_count": null,
   "metadata": {},
   "outputs": [],
   "source": []
  },
  {
   "cell_type": "code",
   "execution_count": null,
   "metadata": {},
   "outputs": [],
   "source": []
  },
  {
   "cell_type": "code",
   "execution_count": null,
   "metadata": {},
   "outputs": [],
   "source": []
  },
  {
   "cell_type": "code",
   "execution_count": null,
   "metadata": {},
   "outputs": [],
   "source": []
  },
  {
   "cell_type": "markdown",
   "metadata": {},
   "source": [
    "# Q11:"
   ]
  },
  {
   "cell_type": "markdown",
   "metadata": {},
   "source": [
    "Do the following to create a program that simulates how websites ensure that everyone has a unique username.\n",
    "\n",
    "•\t Make a list of five or more usernames called current_users.\n",
    "\n",
    "•\t Make another list of five usernames called new_users. \n",
    "Make sure one or two of the new usernames are also in the current_users list.\n",
    "\n",
    "•\t Loop through the new_users list to see if each new username has already been used. \n",
    "If it has, print a message that the person will need to enter a new username. \n",
    "If a username has not been used, print a message saying that the username is available.\n",
    "\n",
    "•\t Make sure your comparison is case insensitive. If 'John' has been used, 'JOHN' should not be accepted."
   ]
  },
  {
   "cell_type": "code",
   "execution_count": 1,
   "metadata": {},
   "outputs": [
    {
     "name": "stdout",
     "output_type": "stream",
     "text": [
      "Hamza--- this username is not available\n",
      "Aurangzaib--- this username is available\n",
      "Afnan--- this username is available\n",
      "Wareesha--- this username is available\n",
      "Umar--- this username is available\n",
      "Nabeel--- this username is not available\n"
     ]
    }
   ],
   "source": [
    "current_users = [\"Hamza\",\"Midha\",\"Maaz\",\"Mariam\",\"Ahsan\",\"Nabeel\"]\n",
    "new_users = [\"Hamza\",\"Aurangzaib\",\"Afnan\",\"Wareesha\",\"Umar\",\"Nabeel\"]\n",
    "for new in new_users:\n",
    "    for current in current_users:    \n",
    "        if new.lower() == current.lower():\n",
    "            print(new+\"--- this username is not available\")\n",
    "            flag=False\n",
    "            break\n",
    "        else:\n",
    "            flag=True\n",
    "    if flag==True:\n",
    "        print(f\"{new}--- this username is available\")"
   ]
  },
  {
   "cell_type": "code",
   "execution_count": null,
   "metadata": {},
   "outputs": [],
   "source": []
  },
  {
   "cell_type": "code",
   "execution_count": null,
   "metadata": {},
   "outputs": [],
   "source": []
  },
  {
   "cell_type": "code",
   "execution_count": null,
   "metadata": {},
   "outputs": [],
   "source": []
  },
  {
   "cell_type": "markdown",
   "metadata": {},
   "source": [
    "# Q12:"
   ]
  },
  {
   "cell_type": "markdown",
   "metadata": {},
   "source": [
    "Use a dictionary to store information about a person you know.\n",
    "Store their first name, last name, age, and the city in which they live. \n",
    "You should have keys such as first_name, last_name, age, and city. \n",
    "Print each piece of information stored in your dictionary"
   ]
  },
  {
   "cell_type": "code",
   "execution_count": 9,
   "metadata": {},
   "outputs": [],
   "source": [
    "friend = {\n",
    "    \"First_name\" : \"Maaz\",\n",
    "    \"Last_name\" : \"Shah\",\n",
    "    \"Age\" : 19,\n",
    "    \"City\" : \"Karachi\",\n",
    "}"
   ]
  },
  {
   "cell_type": "code",
   "execution_count": 10,
   "metadata": {},
   "outputs": [
    {
     "name": "stdout",
     "output_type": "stream",
     "text": [
      "First_name = Maaz\n",
      "Last_name = Shah\n",
      "Age = 19\n",
      "City = Karachi\n"
     ]
    }
   ],
   "source": [
    "for k,v in friend.items():\n",
    "    print(f\"{k} = {v}\")"
   ]
  },
  {
   "cell_type": "code",
   "execution_count": null,
   "metadata": {},
   "outputs": [],
   "source": []
  },
  {
   "cell_type": "code",
   "execution_count": null,
   "metadata": {},
   "outputs": [],
   "source": []
  },
  {
   "cell_type": "markdown",
   "metadata": {},
   "source": [
    "# Q13:"
   ]
  },
  {
   "cell_type": "markdown",
   "metadata": {},
   "source": [
    "Starts with your last question 12 , loop through the dictionary’s keys and values.\n",
    "When you’re sure that your loop works, add five more Python terms to your\n",
    "dictionary . When you run your program again, these new words and meanings\n",
    "should automatically be included in the output."
   ]
  },
  {
   "cell_type": "code",
   "execution_count": 12,
   "metadata": {},
   "outputs": [
    {
     "name": "stdin",
     "output_type": "stream",
     "text": [
      "Enter Key :  department\n",
      "Enter Value :  softwarre\n",
      "Enter Key :  degree\n",
      "Enter Value :  BE\n",
      "Enter Key :  university\n",
      "Enter Value :  NED\n",
      "Enter Key :  Zodiac\n",
      "Enter Value :  Cancer\n",
      "Enter Key :  Birth_Month\n",
      "Enter Value :  July\n"
     ]
    }
   ],
   "source": [
    "for x in range(0,5):\n",
    "    a = input(\"Enter Key : \")\n",
    "    b = input(\"Enter Value : \")\n",
    "    friend[a] = b"
   ]
  },
  {
   "cell_type": "code",
   "execution_count": 13,
   "metadata": {},
   "outputs": [
    {
     "name": "stdout",
     "output_type": "stream",
     "text": [
      "First_name : Maaz\n",
      "Last_name : Shah\n",
      "Age : 19\n",
      "City : Karachi\n",
      "department : softwarre\n",
      "degree : BE\n",
      "university : NED\n",
      "Zodiac : Cancer\n",
      "Birth_Month : July\n"
     ]
    }
   ],
   "source": [
    "for keys,values in friend.items():\n",
    "    print(f\"{keys} : {values}\")"
   ]
  },
  {
   "cell_type": "code",
   "execution_count": null,
   "metadata": {},
   "outputs": [],
   "source": []
  },
  {
   "cell_type": "code",
   "execution_count": null,
   "metadata": {},
   "outputs": [],
   "source": []
  },
  {
   "cell_type": "code",
   "execution_count": null,
   "metadata": {},
   "outputs": [],
   "source": []
  },
  {
   "cell_type": "markdown",
   "metadata": {},
   "source": [
    "# Q14:"
   ]
  },
  {
   "cell_type": "markdown",
   "metadata": {},
   "source": [
    "Make a dictionary containing three major rivers and the country\n",
    "each river runs through. One key-value pair might be 'nile': 'egypt'.\n",
    "    \n",
    "    \n",
    "•\t Use a loop to print a sentence about each river, such as The Nile runs\n",
    "through Egypt.\n",
    "\n",
    "NOTE: use upper case through keys and values."
   ]
  },
  {
   "cell_type": "code",
   "execution_count": 14,
   "metadata": {},
   "outputs": [],
   "source": [
    "Rivers = {\n",
    "    'nile' : 'egypt',\n",
    "    'Indus' : 'Pakistan',\n",
    "    'Amazon' : 'South America'\n",
    "}"
   ]
  },
  {
   "cell_type": "code",
   "execution_count": 15,
   "metadata": {},
   "outputs": [
    {
     "name": "stdout",
     "output_type": "stream",
     "text": [
      "The nile river runs through egypt\n",
      "The Indus river runs through Pakistan\n",
      "The Amazon river runs through South America\n"
     ]
    }
   ],
   "source": [
    "for k in Rivers.keys():\n",
    "    print(f\"The {k} river runs through {Rivers[k]}\")"
   ]
  },
  {
   "cell_type": "code",
   "execution_count": null,
   "metadata": {},
   "outputs": [],
   "source": []
  },
  {
   "cell_type": "markdown",
   "metadata": {},
   "source": [
    "# Q15:"
   ]
  },
  {
   "cell_type": "markdown",
   "metadata": {},
   "source": [
    "Make several dictionaries, where the name of each dictionary is the\n",
    "name of a pet. In each dictionary, include the kind of animal and the owner’s\n",
    "name. Store these dictionaries in a list called pets. Next, loop through your list\n",
    "and as you do print everything you know about each pet."
   ]
  },
  {
   "cell_type": "code",
   "execution_count": 19,
   "metadata": {},
   "outputs": [],
   "source": [
    "charlie = {\n",
    "    'kind_of_animal':'rabbit',\n",
    "    'owner' : 'Thompson',\n",
    "}\n",
    "Max = {\n",
    "    'kind_of_animal':'parrot',\n",
    "    'owner' : 'Albert'\n",
    "}\n",
    "buddy = {\n",
    "    'kind_of_animal':'Horse',\n",
    "    'owner' : 'John'\n",
    "}\n",
    "archie = {\n",
    "    'kind_of_animal' : 'rabbit',\n",
    "    'owner' : 'Thomas'\n",
    "}\n",
    "teddy = {\n",
    "    'kind_of_animal':'dog',\n",
    "    'owner' : 'Fred',\n",
    "}\n",
    "tobby = {\n",
    "    'kind_of_animal':'dog',\n",
    "    'owner' : 'Rodriguez',\n",
    "}\n",
    "bailey = {\n",
    "    'kind_of_animal':'cat',\n",
    "    'owner' : 'Ronald',\n",
    "}\n",
    "franky = {\n",
    "    'kind_of_animal':'dog',\n",
    "    'owner' : 'Sergio',\n",
    "}\n",
    "george = {\n",
    "    'kind_of_animal':'cat',\n",
    "    'owner' : 'Antonio',\n",
    "}"
   ]
  },
  {
   "cell_type": "code",
   "execution_count": 20,
   "metadata": {},
   "outputs": [],
   "source": [
    "pets = [charlie,Max,buddy,archie,teddy,tobby,bailey,franky,george]"
   ]
  },
  {
   "cell_type": "code",
   "execution_count": 22,
   "metadata": {},
   "outputs": [
    {
     "name": "stdout",
     "output_type": "stream",
     "text": [
      "kind_of_animal : rabbit\n",
      "owner : Thompson\n",
      "--------------------\n",
      "kind_of_animal : parrot\n",
      "owner : Albert\n",
      "--------------------\n",
      "kind_of_animal : Horse\n",
      "owner : John\n",
      "--------------------\n",
      "kind_of_animal : rabbit\n",
      "owner : Thomas\n",
      "--------------------\n",
      "kind_of_animal : dog\n",
      "owner : Fred\n",
      "--------------------\n",
      "kind_of_animal : dog\n",
      "owner : Rodriguez\n",
      "--------------------\n",
      "kind_of_animal : cat\n",
      "owner : Ronald\n",
      "--------------------\n",
      "kind_of_animal : dog\n",
      "owner : Sergio\n",
      "--------------------\n",
      "kind_of_animal : cat\n",
      "owner : Antonio\n",
      "--------------------\n"
     ]
    }
   ],
   "source": [
    "for pet in pets:\n",
    "    for k,v in pet.items():\n",
    "        print(f\"{k} : {v}\")\n",
    "    print(\"--------------------\")"
   ]
  },
  {
   "cell_type": "code",
   "execution_count": null,
   "metadata": {},
   "outputs": [],
   "source": []
  },
  {
   "cell_type": "code",
   "execution_count": null,
   "metadata": {},
   "outputs": [],
   "source": []
  }
 ],
 "metadata": {
  "kernelspec": {
   "display_name": "Python 3",
   "language": "python",
   "name": "python3"
  },
  "language_info": {
   "codemirror_mode": {
    "name": "ipython",
    "version": 3
   },
   "file_extension": ".py",
   "mimetype": "text/x-python",
   "name": "python",
   "nbconvert_exporter": "python",
   "pygments_lexer": "ipython3",
   "version": "3.7.3"
  }
 },
 "nbformat": 4,
 "nbformat_minor": 2
}
