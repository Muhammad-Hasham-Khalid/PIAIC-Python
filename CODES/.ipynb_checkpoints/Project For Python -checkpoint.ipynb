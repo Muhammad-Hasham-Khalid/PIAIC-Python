{
 "cells": [
  {
   "cell_type": "markdown",
   "metadata": {},
   "source": [
    "# Project Key Points\n",
    "* Student Management System (Project_Name)\n",
    "* Create, Read, Update, Delete\n",
    "* Use Filing (data_files / JSON etc)\n",
    "* Student -- Create\n",
    "* properties : name, father_name, class_of_admission, Roll_Number, Subjects_List\n",
    "* Before creation >> Check whether the student is previously present or not : \n",
    "\n",
    "    if (true) -- error\n",
    "\n",
    "    else -- pass\n",
    "    \n",
    "    (Hint : use roll_no as key)\n",
    "* User says show me all students of this class __ (file reading)\n",
    "* If student wants to update the information it can be done except the roll_number and the subjects\n",
    "  If someone says -- then error \n",
    "* if someone provides a roll number and class then delete that damn student ;)\n",
    "* Make a menu for user interface\n",
    "\n",
    "### (Note : Post it on FB group and Slack)"
   ]
  },
  {
   "cell_type": "code",
   "execution_count": 17,
   "metadata": {},
   "outputs": [],
   "source": [
    "def main():\n",
    "    keywords = {\n",
    "        \"add\" : 1,\n",
    "        \"show\" : 2,\n",
    "        \"display\" : 2,\n",
    "        \n",
    "    }\n",
    "    print(\"\\t\\t\\t\\t\\t\\t______MAIN MENU______\\n\")\n",
    "    print(\"1 - Add a new Student\")\n",
    "    print(\"2 - Show data of Students\")\n",
    "    print(\"3 - Update data of Student\")\n",
    "    print(\"4 - Delete data of Student\")\n",
    "    try:\n",
    "        choice = input(\"What would you like to do : \")\n",
    "        choice.split()\n",
    "        for keyword.lower() in choice:\n",
    "            for key in keywords()"
   ]
  },
  {
   "cell_type": "code",
   "execution_count": 19,
   "metadata": {},
   "outputs": [
    {
     "ename": "IndentationError",
     "evalue": "unexpected indent (<ipython-input-19-fa259f629988>, line 3)",
     "output_type": "error",
     "traceback": [
      "\u001b[1;36m  File \u001b[1;32m\"<ipython-input-19-fa259f629988>\"\u001b[1;36m, line \u001b[1;32m3\u001b[0m\n\u001b[1;33m    main(\u001b[0m\n\u001b[1;37m    ^\u001b[0m\n\u001b[1;31mIndentationError\u001b[0m\u001b[1;31m:\u001b[0m unexpected indent\n"
     ]
    }
   ],
   "source": [
    "print(\"\\t\\t\\t\\t______WELCOME TO STUDENT MANAGEMENT SYSTEM______\\n\")\n",
    "print(\"\\t\\t\\t***************************************************************\\n\")\n",
    "main()"
   ]
  },
  {
   "cell_type": "code",
   "execution_count": null,
   "metadata": {},
   "outputs": [],
   "source": []
  }
 ],
 "metadata": {
  "kernelspec": {
   "display_name": "Python 3",
   "language": "python",
   "name": "python3"
  },
  "language_info": {
   "codemirror_mode": {
    "name": "ipython",
    "version": 3
   },
   "file_extension": ".py",
   "mimetype": "text/x-python",
   "name": "python",
   "nbconvert_exporter": "python",
   "pygments_lexer": "ipython3",
   "version": "3.7.3"
  }
 },
 "nbformat": 4,
 "nbformat_minor": 2
}
