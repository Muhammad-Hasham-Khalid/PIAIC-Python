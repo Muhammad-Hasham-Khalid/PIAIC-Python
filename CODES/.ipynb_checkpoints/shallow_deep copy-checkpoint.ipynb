{
 "cells": [
  {
   "cell_type": "code",
   "execution_count": 6,
   "metadata": {},
   "outputs": [
    {
     "name": "stdout",
     "output_type": "stream",
     "text": [
      "list1 = 0x1f8c4bc1708\n",
      "list2 = 0x1f8c4bc1708\n",
      "list3 = 0x1f8c4bc68c8\n",
      "list4 = 0x1f8c4bc1a88\n",
      "list5 = 0x1f8c4b12188\n",
      "[1, 7, 3]\n",
      "[1, 7, 3]\n",
      "[1, 2, 3]\n",
      "[1, 2, 3]\n",
      "[1, 2, 3]\n"
     ]
    }
   ],
   "source": [
    "list1 = [1,2,3]\n",
    "list2 = list1\n",
    "list3 = list1.copy()\n",
    "\n",
    "import copy\n",
    "\n",
    "list4 = copy.copy(list1)\n",
    "list5 = copy.deepcopy(list1)\n",
    "\n",
    "# hasham == shallow(same) and deep(diff)\n",
    "# midz == shallow(diff) and deep(same)\n",
    "\n",
    "\n",
    "print(f\"list1 = {hex(id(list1))}\")\n",
    "print(f\"list2 = {hex(id(list2))}\")\n",
    "print(f\"list3 = {hex(id(list3))}\")\n",
    "print(f\"list4 = {hex(id(list4))}\")\n",
    "print(f\"list5 = {hex(id(list5))}\")\n",
    "\n",
    "list1[1] = 7\n",
    "\n",
    "print(list1)\n",
    "print(list2)\n",
    "print(list3)\n",
    "print(list4)\n",
    "print(list5)"
   ]
  },
  {
   "cell_type": "code",
   "execution_count": 8,
   "metadata": {},
   "outputs": [
    {
     "name": "stdout",
     "output_type": "stream",
     "text": [
      "[[1, 2, 3], [4, 9, 6], [7, 8, 9]]\n",
      "[[1, 2, 3], [4, 9, 6], [7, 8, 9]]\n",
      "[[1, 2, 3], [4, 5, 6], [7, 8, 9]]\n"
     ]
    }
   ],
   "source": [
    "old = [[1,2,3],[4,5,6],[7,8,9]]\n",
    "news = copy.copy(old)\n",
    "newd = copy.deepcopy(old)\n",
    "\n",
    "old[1][1]=9\n",
    "print(old)\n",
    "print(news)\n",
    "print(newd)"
   ]
  },
  {
   "cell_type": "code",
   "execution_count": 9,
   "metadata": {},
   "outputs": [
    {
     "name": "stdout",
     "output_type": "stream",
     "text": [
      "[[1, 2, 3], [4, 9, 6], [7, 8, 9], [10, 11, 12]]\n",
      "[[1, 2, 3], [4, 9, 6], [7, 8, 9]]\n",
      "[[1, 2, 3], [4, 5, 6], [7, 8, 9]]\n"
     ]
    }
   ],
   "source": [
    "old.append([10,11,12])\n",
    "print(old)\n",
    "print(news)\n",
    "print(newd)"
   ]
  },
  {
   "cell_type": "code",
   "execution_count": 10,
   "metadata": {},
   "outputs": [
    {
     "name": "stdout",
     "output_type": "stream",
     "text": [
      "[[1, 2, 3], [4, 9, 6], [3, 8, 9], [10, 11, 12]]\n",
      "[[1, 2, 3], [4, 9, 6], [3, 8, 9]]\n",
      "[[1, 2, 3], [4, 5, 6], [7, 8, 9]]\n"
     ]
    }
   ],
   "source": [
    "old[2][0] = 3\n",
    "print(old)\n",
    "print(news)\n",
    "print(newd)"
   ]
  },
  {
   "cell_type": "code",
   "execution_count": 11,
   "metadata": {},
   "outputs": [
    {
     "name": "stdout",
     "output_type": "stream",
     "text": [
      "[[1, 2, 3], [4, 9, 6], [3, 8, 9], [10, 17, 12]]\n",
      "[[1, 2, 3], [4, 9, 6], [3, 8, 9]]\n",
      "[[1, 2, 3], [4, 5, 6], [7, 8, 9]]\n"
     ]
    }
   ],
   "source": [
    "old[3][1] = 17\n",
    "print(old)\n",
    "print(news)\n",
    "print(newd)"
   ]
  },
  {
   "cell_type": "code",
   "execution_count": 12,
   "metadata": {},
   "outputs": [
    {
     "name": "stdout",
     "output_type": "stream",
     "text": [
      "[[1, 2, 3], [4, 9, 6], [3, 8, 9], [10, 17, 12]]\n",
      "[[1, 2, 3], [4, 9, 6], [3, 8, 9]]\n",
      "[[1, 2, 3], [4, 5, 6], [7, 8, 9]]\n",
      "[[1, 2, 3], [4, 9, 6], [3, 8, 9], [10, 17, 12]]\n"
     ]
    }
   ],
   "source": [
    "old_eq = old\n",
    "print(old)\n",
    "print(news)\n",
    "print(newd)\n",
    "print(old_eq)"
   ]
  },
  {
   "cell_type": "code",
   "execution_count": 14,
   "metadata": {},
   "outputs": [
    {
     "name": "stdout",
     "output_type": "stream",
     "text": [
      "[[1, 2, 3], [4, 9, 6], [3, 8, 9], [10, 17, 12], [90, 91, 92], [90, 91, 92]]\n",
      "[[1, 2, 3], [4, 9, 6], [3, 8, 9]]\n",
      "[[1, 2, 3], [4, 5, 6], [7, 8, 9]]\n",
      "[[1, 2, 3], [4, 9, 6], [3, 8, 9], [10, 17, 12], [90, 91, 92], [90, 91, 92]]\n"
     ]
    }
   ],
   "source": [
    "old.append([90,91,92])\n",
    "print(old)\n",
    "print(news)\n",
    "print(newd)\n",
    "print(old_eq)"
   ]
  },
  {
   "cell_type": "code",
   "execution_count": null,
   "metadata": {},
   "outputs": [],
   "source": []
  }
 ],
 "metadata": {
  "kernelspec": {
   "display_name": "Python 3",
   "language": "python",
   "name": "python3"
  },
  "language_info": {
   "codemirror_mode": {
    "name": "ipython",
    "version": 3
   },
   "file_extension": ".py",
   "mimetype": "text/x-python",
   "name": "python",
   "nbconvert_exporter": "python",
   "pygments_lexer": "ipython3",
   "version": "3.7.3"
  }
 },
 "nbformat": 4,
 "nbformat_minor": 2
}
