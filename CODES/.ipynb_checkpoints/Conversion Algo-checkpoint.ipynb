{
 "cells": [
  {
   "cell_type": "code",
   "execution_count": 2,
   "metadata": {},
   "outputs": [
    {
     "name": "stdin",
     "output_type": "stream",
     "text": [
      "Enter any positive integer :  15\n"
     ]
    },
    {
     "name": "stdout",
     "output_type": "stream",
     "text": [
      "Answer is :1111\n"
     ]
    }
   ],
   "source": [
    "#Algorithm for Conversion from Decimal System to Binary System in python 3x:\n",
    "num = int (input (\"Enter any positive integer : \"))\n",
    "binary = []\n",
    "while num!=1:\n",
    "    binary.append(num%2)\n",
    "    num=num//2\n",
    "binary.reverse()\n",
    "answer = 1\n",
    "for x in binary:\n",
    "    answer = answer*10+x\n",
    "print(\"Answer is :\" +str(answer))"
   ]
  },
  {
   "cell_type": "code",
   "execution_count": 4,
   "metadata": {},
   "outputs": [
    {
     "data": {
      "text/plain": [
       "'def roman(x):\\n    example=[[1,\\'i\\'],[5,\\'v\\'],[10,\\'x\\'],[50,\\'L\\'],[100,\\'C\\'],[500,\\'D\\'],[1000,\\'M\\']]\\n    num = int(input(\"enter any positive integer : \"))\\n    for i in range(len(example)):\\n        if i<=2:\\n            if num==example[i][0]-1 or (num>example[i][0] and num<example[i+1][0]-1):\\n                if i==0:\\n                    #for the numbers from 1-3\\n                elif i==1:\\n                    #for the numbers from 4-8\\n                elif i==2:\\n                    #for the numbers from 9-39\\n        if i==3 or i==4:\\n            if num==example[i][0]-10 or (num>example[i][0] and num<example[i+1][0]-10):    \\n                if i==3:\\n                    #for the numbers from 40-89\\n                elif i==4:\\n                #for the numbers from 90-389\\n        if i==5:\\n            if num==example[i][0]-100 or (num>example[i][0] and num<example[i+1][0]-100):\\n                #for the numbers from 400-889\\n        if i==6:\\n            if num>899:\\n                #for the numbers greater than 899'"
      ]
     },
     "execution_count": 4,
     "metadata": {},
     "output_type": "execute_result"
    }
   ],
   "source": [
    "''' def roman(x):\n",
    "    example=[[1,'i'],[5,'v'],[10,'x'],[50,'L'],[100,'C'],[500,'D'],[1000,'M']]\n",
    "    num = int(input(\"enter any positive integer : \"))\n",
    "    for i in range(len(example)):\n",
    "        if i<=2:\n",
    "            if num==example[i][0]-1 or (num>example[i][0] and num<example[i+1][0]-1):\n",
    "                if i==0:\n",
    "                    #for the numbers from 1-3\n",
    "                elif i==1:\n",
    "                    #for the numbers from 4-8\n",
    "                elif i==2:\n",
    "                    #for the numbers from 9-39\n",
    "        if i==3 or i==4:\n",
    "            if num==example[i][0]-10 or (num>example[i][0] and num<example[i+1][0]-10):    \n",
    "                if i==3:\n",
    "                    #for the numbers from 40-89\n",
    "                elif i==4:\n",
    "                #for the numbers from 90-389\n",
    "        if i==5:\n",
    "            if num==example[i][0]-100 or (num>example[i][0] and num<example[i+1][0]-100):\n",
    "                #for the numbers from 400-889\n",
    "        if i==6:\n",
    "            if num>899:\n",
    "                #for the numbers greater than 899'''"
   ]
  },
  {
   "cell_type": "code",
   "execution_count": 3,
   "metadata": {},
   "outputs": [
    {
     "name": "stdin",
     "output_type": "stream",
     "text": [
      "enter any positive integer :  67\n"
     ]
    },
    {
     "name": "stdout",
     "output_type": "stream",
     "text": [
      "Answer is : lxvii\n"
     ]
    }
   ],
   "source": [
    "def unitschk(units):\n",
    "    if units==0:\n",
    "        return \"\"\n",
    "    elif units==1:\n",
    "        return 'i'\n",
    "    elif units==2:\n",
    "        return 'ii'\n",
    "    elif units==3:\n",
    "        return 'iii'\n",
    "    elif units==4:\n",
    "        return 'iv'\n",
    "    elif units==5:\n",
    "        return 'v'\n",
    "    elif units==6:\n",
    "        return 'vi'\n",
    "    elif units==7:\n",
    "        return 'vii'\n",
    "    elif units==8:\n",
    "        return 'viii'\n",
    "    elif units==9:\n",
    "        return 'ix'\n",
    "    \n",
    "def tenschk(tens):\n",
    "    if tens==0:\n",
    "        return \"\"\n",
    "    elif tens==1:\n",
    "        return 'x'\n",
    "    elif tens==2:\n",
    "        return 'xx'\n",
    "    elif tens==3:\n",
    "        return 'xxx'\n",
    "    elif tens==4:\n",
    "        return 'xl'\n",
    "    elif tens==5:\n",
    "        return 'l'\n",
    "    elif tens==6:\n",
    "        return 'lx'\n",
    "    elif tens==7:\n",
    "        return 'lxx'\n",
    "    elif tens==8:\n",
    "        return 'lxxx'\n",
    "    elif tens==9:\n",
    "        return 'xc'\n",
    "    \n",
    "def hundredschk(hundreds):\n",
    "    if hundreds==0:\n",
    "        return \"\"\n",
    "    elif hundreds==1:\n",
    "        return 'c'\n",
    "    elif hundreds==2:\n",
    "        return 'cc'\n",
    "    elif hundreds==3:\n",
    "        return 'ccc'\n",
    "    elif hundreds==4:\n",
    "        return 'cd'\n",
    "    elif hundreds==5:\n",
    "        return 'd'\n",
    "    elif hundreds==6:\n",
    "        return 'dc'\n",
    "    elif hundreds==7:\n",
    "        return 'dcc'\n",
    "    elif hundreds==8:\n",
    "        return 'dccc'\n",
    "    elif hundreds==9:\n",
    "        return 'cm'\n",
    "\n",
    "def thousandschk(thousands):\n",
    "    if thousands==0:\n",
    "        return \"\"\n",
    "    elif thousands==1:\n",
    "        return 'm'\n",
    "    elif thousands==2:\n",
    "        return 'mm'\n",
    "    elif thousands==3:\n",
    "        return 'mmm'\n",
    "    \n",
    "num = int(input(\"enter any positive integer : \"))\n",
    "if num>3000:\n",
    "    print(\"Overflow value\")\n",
    "else:\n",
    "    answer=\"\"\n",
    "    units=num%10\n",
    "    num//=10\n",
    "    tens=num%10\n",
    "    num//=10\n",
    "    hundreds=num%10\n",
    "    num//=10\n",
    "    thousands=num%10\n",
    "    answer=thousandschk(thousands)+hundredschk(hundreds)+tenschk(tens)+unitschk(units)\n",
    "    print(\"Answer is : \"+answer)"
   ]
  },
  {
   "cell_type": "code",
   "execution_count": 28,
   "metadata": {},
   "outputs": [
    {
     "name": "stdin",
     "output_type": "stream",
     "text": [
      "Enter any binary number :  11\n"
     ]
    },
    {
     "name": "stdout",
     "output_type": "stream",
     "text": [
      "3\n"
     ]
    }
   ],
   "source": [
    "#Algorithm for conversion from binary to decimal\n",
    "binary=str(input(\"Enter any binary number : \"))\n",
    "flag = False\n",
    "for each in binary:\n",
    "    if each!='0' and each!='1':\n",
    "        print(\"Error in input\")\n",
    "        flag = False\n",
    "        break\n",
    "    else:\n",
    "        flag = True\n",
    "if flag == True:\n",
    "    result = 0\n",
    "    exp = len(binary)-1\n",
    "    for x in range(0,len(binary)):\n",
    "        result = int(binary[x])*(2**exp)+result\n",
    "        exp-=1\n",
    "    print(result)"
   ]
  },
  {
   "cell_type": "code",
   "execution_count": null,
   "metadata": {},
   "outputs": [],
   "source": []
  }
 ],
 "metadata": {
  "kernelspec": {
   "display_name": "Python 3",
   "language": "python",
   "name": "python3"
  },
  "language_info": {
   "codemirror_mode": {
    "name": "ipython",
    "version": 3
   },
   "file_extension": ".py",
   "mimetype": "text/x-python",
   "name": "python",
   "nbconvert_exporter": "python",
   "pygments_lexer": "ipython3",
   "version": "3.7.3"
  }
 },
 "nbformat": 4,
 "nbformat_minor": 2
}
