{
 "cells": [
  {
   "cell_type": "markdown",
   "metadata": {},
   "source": [
    "## CSV files"
   ]
  },
  {
   "cell_type": "code",
   "execution_count": 1,
   "metadata": {},
   "outputs": [],
   "source": [
    "import csv \n",
    "# python has a built-in module for python used for data reading and writing\n",
    "# comma seperated values file\n",
    "# structured data is mostly in csv files"
   ]
  },
  {
   "cell_type": "code",
   "execution_count": 2,
   "metadata": {},
   "outputs": [
    {
     "name": "stdout",
     "output_type": "stream",
     "text": [
      "['Year', 'Event', 'Winner 1995']\n",
      "['Best-Kept Lawn', 'None 1999', 'Gobstones']\n",
      "['Welch National 2006', 'World Cup', 'Burkina Faso']\n"
     ]
    }
   ],
   "source": [
    "with open(\"commaSeperatedValues.csv\") as file:\n",
    "    x = csv.reader(file)\n",
    "    for each in x:\n",
    "        print(each)"
   ]
  },
  {
   "cell_type": "code",
   "execution_count": 3,
   "metadata": {},
   "outputs": [
    {
     "name": "stdout",
     "output_type": "stream",
     "text": [
      "['Year', 'Event', 'Winner 1995']\n",
      "['Best-Kept Lawn', 'None 1999', 'Gobstones']\n",
      "['Welch National 2006', 'World Cup', 'Burkina Faso']\n",
      "['Year', 'Event', 'Winner 1995', 'Best-Kept Lawn', 'None 1999', 'Gobstones', 'Welch National 2006', 'World Cup', 'Burkina Faso']\n",
      "<class 'list'>\n",
      "3\n"
     ]
    }
   ],
   "source": [
    "data = []\n",
    "with open(\"commaSeperatedValues.csv\") as file:\n",
    "    x = csv.reader(file)\n",
    "    length = 0\n",
    "    for each in x:   \n",
    "        print(each)\n",
    "        length+=1\n",
    "        data.extend(each)\n",
    "print(data)\n",
    "print(type(data))\n",
    "print(length)"
   ]
  },
  {
   "cell_type": "code",
   "execution_count": 3,
   "metadata": {},
   "outputs": [
    {
     "name": "stdout",
     "output_type": "stream",
     "text": [
      "<_csv.reader object at 0x0000023D0B4B96C8>\n"
     ]
    }
   ],
   "source": [
    "print(x)"
   ]
  },
  {
   "cell_type": "code",
   "execution_count": 4,
   "metadata": {},
   "outputs": [],
   "source": [
    "#Writing in CSV files \n",
    "with open('xyz.csv','w',newline='') as f:\n",
    "    cursor = csv.writer(f,delimiter=',') # the seperation between 2 words is done by delimiter\n",
    "    cursor.writerow([\"Year\",\"Event\",\"Winner\"])\n",
    "    cursor.writerow([\"1995\",\"Mperc\",\"CodePunks\"])\n",
    "    cursor.writerow([\"2019\",\"Itec\",\"MHM\"])"
   ]
  },
  {
   "cell_type": "code",
   "execution_count": 5,
   "metadata": {},
   "outputs": [],
   "source": [
    "with open('xyz.csv','a',newline='') as f:\n",
    "    cursor = csv.writer(f,delimiter=',')\n",
    "    cursor.writerow([\"2000\",\"DevDay\",\"Abhi_Null_Done\"])"
   ]
  },
  {
   "cell_type": "markdown",
   "metadata": {},
   "source": [
    "# Voting Program"
   ]
  },
  {
   "cell_type": "code",
   "execution_count": 6,
   "metadata": {},
   "outputs": [],
   "source": [
    "with open (\"Voters.csv\",\"w\",newline=\"\") as f:\n",
    "    data_handler = csv.writer(f,delimiter=\",\")\n",
    "    data_handler.writerow([\"Hasham\",\"Maaz\",\"Midha\",\"Ahsan\",\"Mariam\",\"Fareena\",\"Umar\",\"Hamza\",\"Zaid\"])"
   ]
  },
  {
   "cell_type": "code",
   "execution_count": 7,
   "metadata": {},
   "outputs": [],
   "source": [
    "def voter():\n",
    "    flag = False\n",
    "    name = input(\"Enter your name : \")\n",
    "    names = []\n",
    "    with open (\"Voters.csv\",\"r\") as f:\n",
    "        data = csv.reader(f)\n",
    "        for each in data:\n",
    "            names += each\n",
    "    for check in names:\n",
    "        if check == name.title():\n",
    "            flag = True\n",
    "    return flag"
   ]
  },
  {
   "cell_type": "code",
   "execution_count": null,
   "metadata": {},
   "outputs": [
    {
     "name": "stdout",
     "output_type": "stream",
     "text": [
      "What do want to do \n",
      " Cast a Vote (Press Y)\n",
      " Quit (Press N)Y\n",
      "Do you have CNIC ? (Y/N)n\n",
      "You can not caste a vote\n",
      "------------------------------------------------------------------------\n"
     ]
    }
   ],
   "source": [
    "while True:\n",
    "    choice = input(\"What do want to do \\n Cast a Vote (Press Y)\\n Quit (Press N)\")\n",
    "    if choice == \"n\" or choice == \"N\" :\n",
    "        break\n",
    "    elif choice == \"y\" or choice == \"Y\":\n",
    "        NIC = input(\"Do you have CNIC ? (Y/N)\")\n",
    "        if NIC == \"y\" or NIC == \"Y\":\n",
    "            flag = voter()\n",
    "            if flag:\n",
    "                print(\"You can caste a vote\")\n",
    "                break\n",
    "            else:\n",
    "                print(\"You can not caste a vote\")\n",
    "        else:\n",
    "            print(\"You can not caste a vote\")\n",
    "    else:\n",
    "        break\n",
    "    print(\"------------------------------------------------------------------------\")"
   ]
  },
  {
   "cell_type": "markdown",
   "metadata": {},
   "source": [
    "## JSON (Javascript Object Notation)"
   ]
  },
  {
   "cell_type": "markdown",
   "metadata": {},
   "source": [
    "* Before JSON there was XML \n",
    "* initially JSON was made for JSON \n",
    "* later all languages got a support for JSON\n",
    "* In python we have dictionary as JSON \n",
    "* JS has object as for JSON \n",
    "* JSON is used for data transfer"
   ]
  },
  {
   "cell_type": "code",
   "execution_count": 2,
   "metadata": {},
   "outputs": [],
   "source": [
    "import json"
   ]
  },
  {
   "cell_type": "code",
   "execution_count": 4,
   "metadata": {},
   "outputs": [],
   "source": [
    "alphabet_letters = ['a','b','c']\n",
    "with open (\"Alphabet_List.json\",'w') as file:\n",
    "    json.dump(alphabet_letters,file)\n",
    "    # it converts the python list into JSON then writes it/"
   ]
  },
  {
   "cell_type": "markdown",
   "metadata": {},
   "source": [
    "* for strings -- txts\n",
    "* for tables -- CSVs\n",
    "* for dictionaries, lists, Tuples -- JSON"
   ]
  },
  {
   "cell_type": "code",
   "execution_count": 7,
   "metadata": {},
   "outputs": [
    {
     "name": "stdout",
     "output_type": "stream",
     "text": [
      "['a', 'b', 'c']\n",
      "a\n",
      "b\n",
      "c\n"
     ]
    }
   ],
   "source": [
    "with open (\"Alphabet_List.json\",\"r\") as f:\n",
    "    x = json.load(f)\n",
    "    print(x)\n",
    "    for each in x:\n",
    "        print(each)"
   ]
  },
  {
   "cell_type": "code",
   "execution_count": 14,
   "metadata": {},
   "outputs": [],
   "source": [
    "dictionary = {\n",
    "    \"Name\" : \"Hasham\",\n",
    "    \"FatherName\" : \"Khalid\",\n",
    "    \"RollNumber\" : \"SE-079\",\n",
    "    \"University\" : \"NED\",\n",
    "    \"Age\" : 17,\n",
    "    \"symbol\" : \"😂\",\n",
    "}"
   ]
  },
  {
   "cell_type": "code",
   "execution_count": 15,
   "metadata": {},
   "outputs": [],
   "source": [
    "with open (\"MyDetails.json\",\"w\") as f:\n",
    "    json.dump(dictionary,f)"
   ]
  },
  {
   "cell_type": "code",
   "execution_count": 16,
   "metadata": {},
   "outputs": [
    {
     "name": "stdout",
     "output_type": "stream",
     "text": [
      "Name = Hasham\n",
      "FatherName = Khalid\n",
      "RollNumber = SE-079\n",
      "University = NED\n",
      "Age = 17\n",
      "symbol = 😂\n"
     ]
    }
   ],
   "source": [
    "with open (\"MyDetails.json\",\"r\") as f:\n",
    "    x = json.load(f)\n",
    "    for k,v in x.items():\n",
    "        print(f\"{k} = {v}\")"
   ]
  },
  {
   "cell_type": "code",
   "execution_count": 25,
   "metadata": {},
   "outputs": [
    {
     "ename": "SyntaxError",
     "evalue": "unexpected EOF while parsing (<ipython-input-25-09d963b2e080>, line 4)",
     "output_type": "error",
     "traceback": [
      "\u001b[1;36m  File \u001b[1;32m\"<ipython-input-25-09d963b2e080>\"\u001b[1;36m, line \u001b[1;32m4\u001b[0m\n\u001b[1;33m    person[str(identity)][\"age\"] = int(input(\"Enter age : \")\u001b[0m\n\u001b[1;37m                                                            ^\u001b[0m\n\u001b[1;31mSyntaxError\u001b[0m\u001b[1;31m:\u001b[0m unexpected EOF while parsing\n"
     ]
    }
   ],
   "source": [
    "persons ={}\n",
    "while identity <= 7:\n",
    "    person[str(identity)][\"name\"] = input(\"Enter name : \")\n",
    "    person[str(identity)][\"age\"] = int(input(\"Enter age : \")                  "
   ]
  },
  {
   "cell_type": "markdown",
   "metadata": {},
   "source": [
    "# List Comprehension"
   ]
  },
  {
   "cell_type": "raw",
   "metadata": {},
   "source": [
    "list_name = [item_to_be_inserted          iterators            checking_conditions]"
   ]
  },
  {
   "cell_type": "code",
   "execution_count": 44,
   "metadata": {},
   "outputs": [
    {
     "name": "stdout",
     "output_type": "stream",
     "text": [
      "[1, 4, 9, 16]\n"
     ]
    }
   ],
   "source": [
    "new_list = [1,2,3,4]\n",
    "nlist = []\n",
    "for n in new_list:\n",
    "    nlist.append(n**2)\n",
    "print(nlist)"
   ]
  },
  {
   "cell_type": "code",
   "execution_count": 45,
   "metadata": {},
   "outputs": [
    {
     "name": "stdout",
     "output_type": "stream",
     "text": [
      "[1, 4, 9, 16]\n"
     ]
    }
   ],
   "source": [
    "lcomp = [i**2 for i in new_list]\n",
    "print(lcomp)"
   ]
  },
  {
   "cell_type": "code",
   "execution_count": 46,
   "metadata": {},
   "outputs": [
    {
     "name": "stdout",
     "output_type": "stream",
     "text": [
      "['Nasir', 18]\n"
     ]
    }
   ],
   "source": [
    "person = {'name' : \"Nasir\", 'age' : 18}\n",
    "new_lcomp = [v for v in person.values()]\n",
    "\n",
    "print(new_lcomp)"
   ]
  },
  {
   "cell_type": "code",
   "execution_count": 47,
   "metadata": {},
   "outputs": [
    {
     "name": "stdout",
     "output_type": "stream",
     "text": [
      "[0.0, 0.2, 0.4, 0.6, 0.8, 1.0, 1.2, 1.4, 1.6, 1.8]\n"
     ]
    }
   ],
   "source": [
    "numbers = [i/5 for i in range(10)]\n",
    "print(numbers)"
   ]
  },
  {
   "cell_type": "code",
   "execution_count": 48,
   "metadata": {},
   "outputs": [
    {
     "name": "stdout",
     "output_type": "stream",
     "text": [
      "range(0, 10)\n",
      "<class 'range'>\n"
     ]
    }
   ],
   "source": [
    "numbers = range(10)\n",
    "print(numbers)\n",
    "print(type(numbers))"
   ]
  },
  {
   "cell_type": "code",
   "execution_count": 49,
   "metadata": {},
   "outputs": [
    {
     "name": "stdout",
     "output_type": "stream",
     "text": [
      "[0, 2, 4, 6, 8, 10]\n"
     ]
    }
   ],
   "source": [
    "even_number = [i for i in range(11) if i%2==0]\n",
    "print(even_number)"
   ]
  },
  {
   "cell_type": "code",
   "execution_count": 1,
   "metadata": {},
   "outputs": [
    {
     "name": "stdout",
     "output_type": "stream",
     "text": [
      "[1, 3, 5, 7, 9]\n"
     ]
    }
   ],
   "source": [
    "odd_number = [x for x in range(10) if not(x%2==0)]\n",
    "print(odd_number)"
   ]
  },
  {
   "cell_type": "code",
   "execution_count": 2,
   "metadata": {},
   "outputs": [
    {
     "name": "stdout",
     "output_type": "stream",
     "text": [
      "None\n"
     ]
    }
   ],
   "source": [
    "print(odd_number.extend([3,4]))"
   ]
  },
  {
   "cell_type": "code",
   "execution_count": 4,
   "metadata": {},
   "outputs": [
    {
     "name": "stdout",
     "output_type": "stream",
     "text": [
      "\\\\\n",
      "2\n"
     ]
    }
   ],
   "source": [
    "slashes = \"\\\\\\\\\"\n",
    "print(slashes)\n",
    "print(len(slashes))"
   ]
  },
  {
   "cell_type": "code",
   "execution_count": null,
   "metadata": {},
   "outputs": [],
   "source": []
  }
 ],
 "metadata": {
  "kernelspec": {
   "display_name": "Python 3",
   "language": "python",
   "name": "python3"
  },
  "language_info": {
   "codemirror_mode": {
    "name": "ipython",
    "version": 3
   },
   "file_extension": ".py",
   "mimetype": "text/x-python",
   "name": "python",
   "nbconvert_exporter": "python",
   "pygments_lexer": "ipython3",
   "version": "3.7.3"
  }
 },
 "nbformat": 4,
 "nbformat_minor": 2
}
